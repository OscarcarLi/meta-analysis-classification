{
 "cells": [
  {
   "cell_type": "code",
   "execution_count": null,
   "metadata": {},
   "outputs": [],
   "source": [
    "import sys\n",
    "sys.path.append('..')"
   ]
  },
  {
   "cell_type": "code",
   "execution_count": 1,
   "metadata": {},
   "outputs": [],
   "source": [
    "import json\n",
    "from src.data.fedlearn_datasets import FedDataset\n",
    "import time"
   ]
  },
  {
   "cell_type": "code",
   "execution_count": 4,
   "metadata": {},
   "outputs": [
    {
     "name": "stderr",
     "output_type": "stream",
     "text": [
      "\n",
      "  0%|          | 0/3597 [00:00<?, ?it/s]\u001b[A\n",
      "  0%|          | 1/3597 [00:00<11:14,  5.33it/s]\u001b[A\n",
      "  0%|          | 2/3597 [00:00<11:33,  5.19it/s]\u001b[A\n",
      "  0%|          | 3/3597 [00:00<11:44,  5.10it/s]\u001b[A\n",
      "  0%|          | 4/3597 [00:00<11:47,  5.08it/s]\u001b[A\n",
      "  0%|          | 5/3597 [00:00<11:14,  5.33it/s]\u001b[A\n",
      "  0%|          | 6/3597 [00:01<10:59,  5.44it/s]\u001b[A\n",
      "  0%|          | 7/3597 [00:01<11:15,  5.31it/s]\u001b[A\n",
      "  0%|          | 8/3597 [00:01<11:39,  5.13it/s]\u001b[A\n",
      "  0%|          | 9/3597 [00:01<11:50,  5.05it/s]\u001b[A\n",
      "  0%|          | 10/3597 [00:01<11:37,  5.14it/s]\u001b[A\n",
      "  0%|          | 11/3597 [00:02<12:05,  4.94it/s]\u001b[A\n",
      "  0%|          | 12/3597 [00:02<12:19,  4.85it/s]\u001b[A\n",
      "  0%|          | 13/3597 [00:02<11:26,  5.22it/s]\u001b[A\n",
      "  0%|          | 14/3597 [00:02<10:58,  5.44it/s]\u001b[A\n",
      "  0%|          | 15/3597 [00:02<10:59,  5.43it/s]\u001b[A\n",
      "  0%|          | 16/3597 [00:03<11:03,  5.40it/s]\u001b[A\n",
      "  0%|          | 17/3597 [00:03<10:27,  5.70it/s]\u001b[A\n",
      "  1%|          | 18/3597 [00:03<10:59,  5.42it/s]\u001b[A\n",
      "  1%|          | 19/3597 [00:03<11:03,  5.39it/s]\u001b[A\n",
      "  1%|          | 20/3597 [00:03<11:00,  5.41it/s]\u001b[A\n",
      "  1%|          | 21/3597 [00:03<10:54,  5.46it/s]\u001b[A\n",
      "  1%|          | 22/3597 [00:04<10:12,  5.84it/s]\u001b[A\n",
      "  1%|          | 23/3597 [00:04<10:05,  5.90it/s]\u001b[A\n",
      "  1%|          | 24/3597 [00:04<11:28,  5.19it/s]\u001b[A\n",
      "  1%|          | 25/3597 [00:04<12:25,  4.79it/s]\u001b[A\n",
      "  1%|          | 26/3597 [00:04<11:33,  5.15it/s]\u001b[A\n",
      "  1%|          | 27/3597 [00:05<11:19,  5.25it/s]\u001b[A\n",
      "  1%|          | 28/3597 [00:05<11:50,  5.03it/s]\u001b[A\n",
      "  1%|          | 29/3597 [00:05<11:50,  5.02it/s]\u001b[A\n",
      "  1%|          | 30/3597 [00:05<10:29,  5.66it/s]\u001b[A\n",
      "  1%|          | 31/3597 [00:05<09:49,  6.04it/s]\u001b[A\n",
      "  1%|          | 32/3597 [00:06<10:29,  5.66it/s]\u001b[A\n",
      "  1%|          | 33/3597 [00:06<09:50,  6.03it/s]\u001b[A\n",
      "  1%|          | 34/3597 [00:06<09:53,  6.00it/s]\u001b[A\n",
      "  1%|          | 35/3597 [00:06<10:18,  5.76it/s]\u001b[A\n",
      "  1%|          | 36/3597 [00:06<10:51,  5.47it/s]\u001b[A\n",
      "  1%|          | 37/3597 [00:06<11:02,  5.37it/s]\u001b[A\n",
      "  1%|          | 38/3597 [00:07<11:15,  5.27it/s]\u001b[A\n",
      "  1%|          | 39/3597 [00:07<10:57,  5.41it/s]\u001b[A\n",
      "  1%|          | 40/3597 [00:07<10:58,  5.40it/s]\u001b[A\n",
      "  1%|          | 41/3597 [00:07<10:57,  5.40it/s]\u001b[A\n",
      "  1%|          | 42/3597 [00:07<10:44,  5.51it/s]\u001b[A\n",
      "  1%|          | 43/3597 [00:07<10:25,  5.68it/s]\u001b[A\n",
      "  1%|          | 44/3597 [00:08<10:11,  5.81it/s]\u001b[A\n",
      "  1%|▏         | 45/3597 [00:08<10:08,  5.84it/s]\u001b[A\n",
      "  1%|▏         | 46/3597 [00:08<09:56,  5.95it/s]\u001b[A\n",
      "  1%|▏         | 47/3597 [00:08<10:54,  5.42it/s]\u001b[A\n",
      "  1%|▏         | 48/3597 [00:08<11:06,  5.33it/s]\u001b[A\n",
      "  1%|▏         | 50/3597 [00:09<10:03,  5.88it/s]\u001b[A\n",
      "  1%|▏         | 51/3597 [00:09<10:27,  5.65it/s]\u001b[A\n",
      "  1%|▏         | 52/3597 [00:09<10:46,  5.48it/s]\u001b[A\n",
      "  1%|▏         | 53/3597 [00:09<10:04,  5.87it/s]\u001b[A\n",
      "  2%|▏         | 54/3597 [00:09<09:54,  5.96it/s]\u001b[A\n",
      "  2%|▏         | 55/3597 [00:10<10:45,  5.48it/s]\u001b[A\n",
      "  2%|▏         | 56/3597 [00:10<11:07,  5.30it/s]\u001b[A\n",
      "  2%|▏         | 57/3597 [00:10<10:46,  5.48it/s]\u001b[A\n",
      "  2%|▏         | 58/3597 [00:10<10:57,  5.38it/s]\u001b[A\n",
      "  2%|▏         | 59/3597 [00:10<10:40,  5.52it/s]\u001b[A\n",
      "  2%|▏         | 60/3597 [00:10<10:44,  5.49it/s]\u001b[A"
     ]
    },
    {
     "ename": "KeyboardInterrupt",
     "evalue": "",
     "output_type": "error",
     "traceback": [
      "\u001b[0;31m---------------------------------------------------------------------------\u001b[0m",
      "\u001b[0;31mKeyboardInterrupt\u001b[0m                         Traceback (most recent call last)",
      "\u001b[0;32m<ipython-input-4-08560a040d54>\u001b[0m in \u001b[0;36m<module>\u001b[0;34m\u001b[0m\n\u001b[1;32m      5\u001b[0m         \u001b[0mn_shot_per_class\u001b[0m\u001b[0;34m=\u001b[0m\u001b[0;36m1\u001b[0m\u001b[0;34m,\u001b[0m\u001b[0;34m\u001b[0m\u001b[0;34m\u001b[0m\u001b[0m\n\u001b[1;32m      6\u001b[0m         \u001b[0mn_query_per_class\u001b[0m\u001b[0;34m=\u001b[0m\u001b[0;36m1\u001b[0m\u001b[0;34m,\u001b[0m\u001b[0;34m\u001b[0m\u001b[0;34m\u001b[0m\u001b[0m\n\u001b[0;32m----> 7\u001b[0;31m         preload=True)\n\u001b[0m\u001b[1;32m      8\u001b[0m \u001b[0mend\u001b[0m \u001b[0;34m=\u001b[0m \u001b[0mtime\u001b[0m\u001b[0;34m.\u001b[0m\u001b[0mtime\u001b[0m\u001b[0;34m(\u001b[0m\u001b[0;34m)\u001b[0m\u001b[0;34m\u001b[0m\u001b[0;34m\u001b[0m\u001b[0m\n",
      "\u001b[0;32m~/projects/meta-analysis-classification/src/data/fedlearn_datasets.py\u001b[0m in \u001b[0;36m__init__\u001b[0;34m(self, json_path, image_size, n_shot_per_class, n_query_per_class, preload)\u001b[0m\n\u001b[1;32m     84\u001b[0m                         \u001b[0mclass_to_imagepathlist\u001b[0m\u001b[0;34m=\u001b[0m\u001b[0mclass_to_imagepathlist\u001b[0m\u001b[0;34m,\u001b[0m\u001b[0;34m\u001b[0m\u001b[0;34m\u001b[0m\u001b[0m\n\u001b[1;32m     85\u001b[0m                         \u001b[0mimage_size\u001b[0m\u001b[0;34m=\u001b[0m\u001b[0mimage_size\u001b[0m\u001b[0;34m,\u001b[0m\u001b[0;34m\u001b[0m\u001b[0;34m\u001b[0m\u001b[0m\n\u001b[0;32m---> 86\u001b[0;31m                         preload=preload)\n\u001b[0m\u001b[1;32m     87\u001b[0m \u001b[0;34m\u001b[0m\u001b[0m\n\u001b[1;32m     88\u001b[0m         \u001b[0mself\u001b[0m\u001b[0;34m.\u001b[0m\u001b[0mn_shot_per_class\u001b[0m \u001b[0;34m=\u001b[0m \u001b[0mn_shot_per_class\u001b[0m\u001b[0;34m\u001b[0m\u001b[0;34m\u001b[0m\u001b[0m\n",
      "\u001b[0;32m~/projects/meta-analysis-classification/src/data/fedlearn_datasets.py\u001b[0m in \u001b[0;36m__init__\u001b[0;34m(self, client_id, class_to_imagepathlist, image_size, preload)\u001b[0m\n\u001b[1;32m    129\u001b[0m \u001b[0;34m\u001b[0m\u001b[0m\n\u001b[1;32m    130\u001b[0m         \u001b[0mself\u001b[0m\u001b[0;34m.\u001b[0m\u001b[0mpreload\u001b[0m \u001b[0;34m=\u001b[0m \u001b[0mpreload\u001b[0m\u001b[0;34m\u001b[0m\u001b[0;34m\u001b[0m\u001b[0m\n\u001b[0;32m--> 131\u001b[0;31m         \u001b[0;32mif\u001b[0m \u001b[0mself\u001b[0m\u001b[0;34m.\u001b[0m\u001b[0mpreload\u001b[0m\u001b[0;34m:\u001b[0m\u001b[0;34m\u001b[0m\u001b[0;34m\u001b[0m\u001b[0m\n\u001b[0m\u001b[1;32m    132\u001b[0m             \u001b[0mself\u001b[0m\u001b[0;34m.\u001b[0m\u001b[0mclass_to_imagelist\u001b[0m \u001b[0;34m=\u001b[0m \u001b[0mdefaultdict\u001b[0m\u001b[0;34m(\u001b[0m\u001b[0mlist\u001b[0m\u001b[0;34m)\u001b[0m\u001b[0;34m\u001b[0m\u001b[0;34m\u001b[0m\u001b[0m\n\u001b[1;32m    133\u001b[0m             \u001b[0;32mfor\u001b[0m \u001b[0mcl\u001b[0m\u001b[0;34m,\u001b[0m \u001b[0mimagepathlist\u001b[0m \u001b[0;32min\u001b[0m \u001b[0mself\u001b[0m\u001b[0;34m.\u001b[0m\u001b[0mclass_to_imagepathlist\u001b[0m\u001b[0;34m.\u001b[0m\u001b[0mitems\u001b[0m\u001b[0;34m(\u001b[0m\u001b[0;34m)\u001b[0m\u001b[0;34m:\u001b[0m\u001b[0;34m\u001b[0m\u001b[0;34m\u001b[0m\u001b[0m\n",
      "\u001b[0;32m~/projects/meta-analysis-classification/src/data/fedlearn_datasets.py\u001b[0m in \u001b[0;36mload_image\u001b[0;34m(image_path)\u001b[0m\n\u001b[1;32m      9\u001b[0m \u001b[0;34m\u001b[0m\u001b[0m\n\u001b[1;32m     10\u001b[0m \u001b[0;32mdef\u001b[0m \u001b[0mload_image\u001b[0m\u001b[0;34m(\u001b[0m\u001b[0mimage_path\u001b[0m\u001b[0;34m)\u001b[0m\u001b[0;34m:\u001b[0m\u001b[0;34m\u001b[0m\u001b[0;34m\u001b[0m\u001b[0m\n\u001b[0;32m---> 11\u001b[0;31m     \u001b[0mimg\u001b[0m \u001b[0;34m=\u001b[0m \u001b[0mImage\u001b[0m\u001b[0;34m.\u001b[0m\u001b[0mopen\u001b[0m\u001b[0;34m(\u001b[0m\u001b[0mimage_path\u001b[0m\u001b[0;34m)\u001b[0m\u001b[0;34m.\u001b[0m\u001b[0mconvert\u001b[0m\u001b[0;34m(\u001b[0m\u001b[0;34m'RGB'\u001b[0m\u001b[0;34m)\u001b[0m\u001b[0;34m\u001b[0m\u001b[0;34m\u001b[0m\u001b[0m\n\u001b[0m\u001b[1;32m     12\u001b[0m     \u001b[0;32mreturn\u001b[0m \u001b[0mimg\u001b[0m\u001b[0;34m\u001b[0m\u001b[0;34m\u001b[0m\u001b[0m\n\u001b[1;32m     13\u001b[0m \u001b[0;34m\u001b[0m\u001b[0m\n",
      "\u001b[0;32m~/anaconda3/envs/py37/lib/python3.7/site-packages/PIL/Image.py\u001b[0m in \u001b[0;36mopen\u001b[0;34m(fp, mode)\u001b[0m\n\u001b[1;32m   2807\u001b[0m \u001b[0;34m\u001b[0m\u001b[0m\n\u001b[1;32m   2808\u001b[0m     \u001b[0;32mif\u001b[0m \u001b[0mfilename\u001b[0m\u001b[0;34m:\u001b[0m\u001b[0;34m\u001b[0m\u001b[0;34m\u001b[0m\u001b[0m\n\u001b[0;32m-> 2809\u001b[0;31m         \u001b[0mfp\u001b[0m \u001b[0;34m=\u001b[0m \u001b[0mbuiltins\u001b[0m\u001b[0;34m.\u001b[0m\u001b[0mopen\u001b[0m\u001b[0;34m(\u001b[0m\u001b[0mfilename\u001b[0m\u001b[0;34m,\u001b[0m \u001b[0;34m\"rb\"\u001b[0m\u001b[0;34m)\u001b[0m\u001b[0;34m\u001b[0m\u001b[0;34m\u001b[0m\u001b[0m\n\u001b[0m\u001b[1;32m   2810\u001b[0m         \u001b[0mexclusive_fp\u001b[0m \u001b[0;34m=\u001b[0m \u001b[0;32mTrue\u001b[0m\u001b[0;34m\u001b[0m\u001b[0;34m\u001b[0m\u001b[0m\n\u001b[1;32m   2811\u001b[0m \u001b[0;34m\u001b[0m\u001b[0m\n",
      "\u001b[0;31mKeyboardInterrupt\u001b[0m: "
     ]
    }
   ],
   "source": [
    "start = time.time()\n",
    "fed_dataset = FedDataset(\n",
    "        json_path='fed_data/femnist/data.json',\n",
    "        image_size=28,\n",
    "        n_shot_per_class=1,\n",
    "        n_query_per_class=1,\n",
    "        preload=True)\n",
    "end = time.time()"
   ]
  },
  {
   "cell_type": "code",
   "execution_count": 17,
   "metadata": {},
   "outputs": [],
   "source": [
    "c = fed_dataset.client_dict['f0000_14']"
   ]
  },
  {
   "cell_type": "code",
   "execution_count": 18,
   "metadata": {
    "collapsed": true,
    "jupyter": {
     "outputs_hidden": true
    }
   },
   "outputs": [
    {
     "data": {
      "text/plain": [
       "[0,\n",
       " 1,\n",
       " 2,\n",
       " 3,\n",
       " 4,\n",
       " 5,\n",
       " 6,\n",
       " 7,\n",
       " 8,\n",
       " 9,\n",
       " 10,\n",
       " 11,\n",
       " 12,\n",
       " 13,\n",
       " 14,\n",
       " 15,\n",
       " 16,\n",
       " 18,\n",
       " 19,\n",
       " 21,\n",
       " 22,\n",
       " 23,\n",
       " 24,\n",
       " 25,\n",
       " 27,\n",
       " 28,\n",
       " 29,\n",
       " 30,\n",
       " 31,\n",
       " 32,\n",
       " 33,\n",
       " 34,\n",
       " 35,\n",
       " 36,\n",
       " 37,\n",
       " 38,\n",
       " 39,\n",
       " 40,\n",
       " 41,\n",
       " 42,\n",
       " 43,\n",
       " 44,\n",
       " 46,\n",
       " 47,\n",
       " 48,\n",
       " 49,\n",
       " 50,\n",
       " 51,\n",
       " 52,\n",
       " 53,\n",
       " 54,\n",
       " 55,\n",
       " 57,\n",
       " 58,\n",
       " 59,\n",
       " 60,\n",
       " 61]"
      ]
     },
     "execution_count": 18,
     "metadata": {},
     "output_type": "execute_result"
    }
   ],
   "source": [
    "c.classes"
   ]
  },
  {
   "cell_type": "code",
   "execution_count": 19,
   "metadata": {},
   "outputs": [
    {
     "name": "stdout",
     "output_type": "stream",
     "text": [
      "[0, 1, 2, 3, 4, 5, 6, 7, 8, 9, 10, 11, 12, 13, 14, 15, 16, 18, 19, 21, 22, 23, 24, 25, 27, 28, 29, 30, 31, 32, 33, 34, 35, 36, 37, 38, 39, 40, 41, 42, 43, 44, 46, 47, 48, 49, 50, 51, 52, 53, 54, 55, 57, 58, 59, 60, 61]\n"
     ]
    }
   ],
   "source": [
    "c = fed_dataset['f0000_14']"
   ]
  },
  {
   "cell_type": "code",
   "execution_count": 20,
   "metadata": {},
   "outputs": [
    {
     "data": {
      "text/plain": [
       "torch.Size([57, 3, 28, 28])"
      ]
     },
     "execution_count": 20,
     "metadata": {},
     "output_type": "execute_result"
    }
   ],
   "source": [
    "c[0].shape"
   ]
  },
  {
   "cell_type": "code",
   "execution_count": 21,
   "metadata": {},
   "outputs": [],
   "source": [
    "import matplotlib.pyplot as plt"
   ]
  },
  {
   "cell_type": "code",
   "execution_count": 22,
   "metadata": {},
   "outputs": [
    {
     "data": {
      "text/plain": [
       "<matplotlib.image.AxesImage at 0x7f9d0d6899d0>"
      ]
     },
     "execution_count": 22,
     "metadata": {},
     "output_type": "execute_result"
    },
    {
     "data": {
      "image/png": "[encoded data removed]",
      "text/plain": [
       "<Figure size 432x288 with 1 Axes>"
      ]
     },
     "metadata": {
      "needs_background": "light"
     },
     "output_type": "display_data"
    }
   ],
   "source": [
    "plt.imshow(c[0][56].permute(1, 2, 0))"
   ]
  },
  {
   "cell_type": "code",
   "execution_count": 32,
   "metadata": {},
   "outputs": [
    {
     "data": {
      "text/plain": [
       "torch.Size([57])"
      ]
     },
     "execution_count": 32,
     "metadata": {},
     "output_type": "execute_result"
    }
   ],
   "source": [
    "c[1].shape"
   ]
  },
  {
   "cell_type": "code",
   "execution_count": 33,
   "metadata": {},
   "outputs": [
    {
     "data": {
      "text/plain": [
       "torch.Size([57, 3, 28, 28])"
      ]
     },
     "execution_count": 33,
     "metadata": {},
     "output_type": "execute_result"
    }
   ],
   "source": [
    "c[2].shape"
   ]
  },
  {
   "cell_type": "code",
   "execution_count": 34,
   "metadata": {},
   "outputs": [
    {
     "data": {
      "text/plain": [
       "torch.Size([57])"
      ]
     },
     "execution_count": 34,
     "metadata": {},
     "output_type": "execute_result"
    }
   ],
   "source": [
    "c[3].shape"
   ]
  },
  {
   "cell_type": "code",
   "execution_count": null,
   "metadata": {},
   "outputs": [],
   "source": []
  }
 ],
 "metadata": {
  "kernelspec": {
   "display_name": "Python 3.7.6 64-bit ('py37': conda)",
   "language": "python",
   "name": "python37664bitpy37condadb70aabb01fa463792e58b65dd1b6927"
  },
  "language_info": {
   "codemirror_mode": {
    "name": "ipython",
    "version": 3
   },
   "file_extension": ".py",
   "mimetype": "text/x-python",
   "name": "python",
   "nbconvert_exporter": "python",
   "pygments_lexer": "ipython3",
   "version": "3.7.6"
  }
 },
 "nbformat": 4,
 "nbformat_minor": 4
}
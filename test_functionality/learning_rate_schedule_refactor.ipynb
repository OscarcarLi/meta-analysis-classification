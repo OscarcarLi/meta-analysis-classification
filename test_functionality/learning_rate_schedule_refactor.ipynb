{
 "cells": [
  {
   "cell_type": "markdown",
   "metadata": {},
   "source": [
    "Testing code to refactor the learning_rate_drop_schedule lambda function generation."
   ]
  },
  {
   "cell_type": "code",
   "execution_count": 25,
   "metadata": {},
   "outputs": [],
   "source": [
    "drop_factors = [0.06, 0.012]\n",
    "drop_eps = [20]"
   ]
  },
  {
   "cell_type": "code",
   "execution_count": 26,
   "metadata": {},
   "outputs": [],
   "source": [
    "if len(drop_eps) == 3:\n",
    "    lambda_epoch = lambda e: 1.0 if e < drop_eps[0] else (drop_factors[0] if e < drop_eps[1] else drop_factors[1] if e < drop_eps[2] else (drop_factors[2]))\n",
    "elif len(drop_eps) == 2:\n",
    "    lambda_epoch = lambda e: 1.0 if e < drop_eps[0] else (drop_factors[0] if e < drop_eps[1] else drop_factors[1])\n",
    "else:\n",
    "    lambda_epoch = lambda e: 1.0 if e < drop_eps[0] else drop_factors[0]"
   ]
  },
  {
   "cell_type": "code",
   "execution_count": 27,
   "metadata": {},
   "outputs": [],
   "source": [
    "def lr_lambda(x):\n",
    "    # x is an epoch number\n",
    "    # here we require len(drop_factors) >= len(drop_eps)\n",
    "    # ideally they are of the same length\n",
    "    # but technically the code can just not use the additional factors\n",
    "    for i in range(len(drop_eps)):\n",
    "        if x >= drop_eps[i]:\n",
    "            continue\n",
    "        else:\n",
    "            if i == 0:\n",
    "                return 1.0\n",
    "            else:\n",
    "                return drop_factors[i-1]\n",
    "    return drop_factors[len(drop_eps) - 1]"
   ]
  },
  {
   "cell_type": "code",
   "execution_count": 28,
   "metadata": {},
   "outputs": [
    {
     "name": "stdout",
     "output_type": "stream",
     "text": [
      "1.0 1.0\n",
      "1.0 1.0\n",
      "1.0 1.0\n",
      "1.0 1.0\n",
      "1.0 1.0\n",
      "1.0 1.0\n",
      "1.0 1.0\n",
      "1.0 1.0\n",
      "1.0 1.0\n",
      "1.0 1.0\n",
      "1.0 1.0\n",
      "1.0 1.0\n",
      "1.0 1.0\n",
      "1.0 1.0\n",
      "1.0 1.0\n",
      "1.0 1.0\n",
      "1.0 1.0\n",
      "1.0 1.0\n",
      "1.0 1.0\n",
      "1.0 1.0\n",
      "0.06 0.06\n",
      "0.06 0.06\n",
      "0.06 0.06\n",
      "0.06 0.06\n",
      "0.06 0.06\n",
      "0.06 0.06\n",
      "0.06 0.06\n",
      "0.06 0.06\n",
      "0.06 0.06\n",
      "0.06 0.06\n",
      "0.06 0.06\n",
      "0.06 0.06\n",
      "0.06 0.06\n",
      "0.06 0.06\n",
      "0.06 0.06\n",
      "0.06 0.06\n",
      "0.06 0.06\n",
      "0.06 0.06\n",
      "0.06 0.06\n",
      "0.06 0.06\n",
      "0.06 0.06\n",
      "0.06 0.06\n",
      "0.06 0.06\n",
      "0.06 0.06\n",
      "0.06 0.06\n",
      "0.06 0.06\n",
      "0.06 0.06\n",
      "0.06 0.06\n",
      "0.06 0.06\n",
      "0.06 0.06\n",
      "0.06 0.06\n",
      "0.06 0.06\n",
      "0.06 0.06\n",
      "0.06 0.06\n",
      "0.06 0.06\n",
      "0.06 0.06\n",
      "0.06 0.06\n",
      "0.06 0.06\n",
      "0.06 0.06\n",
      "0.06 0.06\n",
      "0.06 0.06\n",
      "0.06 0.06\n",
      "0.06 0.06\n",
      "0.06 0.06\n",
      "0.06 0.06\n",
      "0.06 0.06\n",
      "0.06 0.06\n",
      "0.06 0.06\n",
      "0.06 0.06\n",
      "0.06 0.06\n",
      "0.06 0.06\n",
      "0.06 0.06\n",
      "0.06 0.06\n",
      "0.06 0.06\n",
      "0.06 0.06\n",
      "0.06 0.06\n",
      "0.06 0.06\n",
      "0.06 0.06\n",
      "0.06 0.06\n",
      "0.06 0.06\n",
      "0.06 0.06\n",
      "0.06 0.06\n",
      "0.06 0.06\n",
      "0.06 0.06\n",
      "0.06 0.06\n",
      "0.06 0.06\n",
      "0.06 0.06\n",
      "0.06 0.06\n",
      "0.06 0.06\n",
      "0.06 0.06\n",
      "0.06 0.06\n",
      "0.06 0.06\n",
      "0.06 0.06\n",
      "0.06 0.06\n",
      "0.06 0.06\n",
      "0.06 0.06\n",
      "0.06 0.06\n",
      "0.06 0.06\n",
      "0.06 0.06\n",
      "0.06 0.06\n"
     ]
    }
   ],
   "source": [
    "for i in range(100):\n",
    "    print(lambda_epoch(i), lr_lambda(i))"
   ]
  },
  {
   "cell_type": "code",
   "execution_count": 29,
   "metadata": {},
   "outputs": [],
   "source": [
    "a = {1:2,3:4}"
   ]
  },
  {
   "cell_type": "code",
   "execution_count": 30,
   "metadata": {},
   "outputs": [
    {
     "data": {
      "text/plain": [
       "{1, 3}"
      ]
     },
     "execution_count": 30,
     "metadata": {},
     "output_type": "execute_result"
    }
   ],
   "source": [
    "set(a)"
   ]
  },
  {
   "cell_type": "code",
   "execution_count": null,
   "metadata": {},
   "outputs": [],
   "source": []
  }
 ],
 "metadata": {
  "kernelspec": {
   "display_name": "Python 3.7.6 64-bit ('py37': conda)",
   "language": "python",
   "name": "python37664bitpy37condadb70aabb01fa463792e58b65dd1b6927"
  },
  "language_info": {
   "codemirror_mode": {
    "name": "ipython",
    "version": 3
   },
   "file_extension": ".py",
   "mimetype": "text/x-python",
   "name": "python",
   "nbconvert_exporter": "python",
   "pygments_lexer": "ipython3",
   "version": "3.7.6"
  }
 },
 "nbformat": 4,
 "nbformat_minor": 4
}

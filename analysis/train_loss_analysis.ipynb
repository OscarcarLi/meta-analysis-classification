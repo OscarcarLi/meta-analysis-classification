{
 "cells": [
  {
   "cell_type": "code",
   "execution_count": 16,
   "metadata": {},
   "outputs": [],
   "source": [
    "import os\n",
    "from tqdm import tqdm\n",
    "import json\n",
    "import argparse\n",
    "import pickle\n",
    "import torch\n",
    "import torch.nn as nn\n",
    "import numpy as np\n",
    "import pprint\n",
    "from tensorboardX import SummaryWriter\n",
    "import re\n",
    "import gc\n",
    "import sys\n",
    "from collections import defaultdict\n",
    "import matplotlib.pyplot as plt\n",
    "from sklearn.decomposition import PCA\n",
    "from sklearn.metrics import pairwise_distances\n",
    "from numpy.linalg import svd\n",
    "from mpl_toolkits.mplot3d import Axes3D\n",
    "import time\n",
    "import yaml\n",
    "\n",
    "sys.path = ['..'] + sys.path\n",
    "from algorithm_trainer.models import gated_conv_net_original, resnet, resnet_2, resnet_12, conv64\n",
    "from algorithm_trainer.algorithm_trainer import Generic_adaptation_trainer, Classical_algorithm_trainer\n",
    "from algorithm_trainer.algorithms.algorithm import SVM, ProtoNet, Finetune, ProtoCosineNet\n",
    "from algorithm_trainer.utils import accuracy\n",
    "from data_layer.dataset_managers import MetaDataManager, ClassicalDataManager\n",
    "from analysis.objectives import var_reduction_disc, var_reduction_disc_perp, var_reduction\n",
    "\n",
    "%matplotlib inline"
   ]
  },
  {
   "cell_type": "code",
   "execution_count": 21,
   "metadata": {},
   "outputs": [],
   "source": [
    "def load_model(checkpoint):\n",
    "    \n",
    "    if model_type == 'resnet12':\n",
    "        if dataset_path.split('/')[-1] in ['miniImagenet', 'CUB']:\n",
    "            model = resnet_12.resnet12(avg_pool=(avg_pool == \"True\"), drop_rate=0.1, dropblock_size=5,\n",
    "            no_fc_layer=True, projection=(projection==\"True\"))\n",
    "        else:\n",
    "            model = resnet_12.resnet12(avg_pool=(avg_pool == \"True\"), drop_rate=0.1, dropblock_size=2,\n",
    "            no_fc_layer=True, projection=(projection==\"True\"))\n",
    "    else:\n",
    "        model = conv64.Conv64(num_classes=None,\n",
    "                classifier_type=None, no_fc_layer=True, projection=(projection==\"True\"))\n",
    "            \n",
    "    print(f\"loading from {checkpoint}\")\n",
    "    model_dict = model.state_dict()\n",
    "    chkpt_state_dict = torch.load(checkpoint)\n",
    "    if 'model' in chkpt_state_dict:\n",
    "        chkpt_state_dict = chkpt_state_dict['model']\n",
    "    chkpt_state_dict_cpy = chkpt_state_dict.copy()\n",
    "    # remove \"module.\" from key, possibly present as it was dumped by data-parallel\n",
    "    for key in chkpt_state_dict_cpy.keys():\n",
    "        if 'module.' in key:\n",
    "            new_key = re.sub('module\\.', '',  key)\n",
    "            chkpt_state_dict[new_key] = chkpt_state_dict.pop(key)\n",
    "    chkpt_state_dict = {k: v for k, v in chkpt_state_dict.items() if k in model_dict}\n",
    "    model_dict.update(chkpt_state_dict)\n",
    "    updated_keys = set(model_dict).intersection(set(chkpt_state_dict))\n",
    "    missed_keys = set(model_dict).difference(set(chkpt_state_dict))\n",
    "    print(f\"Missed {len(missed_keys)} keys\")\n",
    "    model.load_state_dict(model_dict)\n",
    "    model = torch.nn.DataParallel(model, device_ids=range(torch.cuda.device_count()))\n",
    "    model.cuda()\n",
    "    return model"
   ]
  },
  {
   "cell_type": "code",
   "execution_count": null,
   "metadata": {},
   "outputs": [],
   "source": []
  },
  {
   "cell_type": "markdown",
   "metadata": {},
   "source": [
    "# step 1: Fix 10 different random support sets"
   ]
  },
  {
   "cell_type": "code",
   "execution_count": 22,
   "metadata": {},
   "outputs": [],
   "source": [
    "img_side_len = 84\n",
    "n_way_train = 5\n",
    "n_shot_train = 5\n",
    "n_query_train = 15\n",
    "n_query_pool = 15\n",
    "batch_size_train = 4\n",
    "support_aug = False\n",
    "train_aug = False\n",
    "n_episodes = 125\n",
    "n_curves = 10\n",
    "log_interval = 2000\n",
    "model_type = 'resnet12'\n",
    "avg_pool = \"False\"\n",
    "projection = \"False\"\n",
    "dataset_path = '../data/filelists/miniImagenet'\n",
    "model_type = 'conv64'\n",
    "model_path = '../train_dir_2/fixS5_conv64_r12_n20_s5_q15_qp15_bs1_euc_drop20'"
   ]
  },
  {
   "cell_type": "code",
   "execution_count": 10,
   "metadata": {},
   "outputs": [],
   "source": [
    "def fetch_loader(seed=None, n_episodes=250, fix_support=0):\n",
    "    if seed is not None:\n",
    "        print(\"Setting seed to\", seed)\n",
    "        np.random.seed(seed)\n",
    "    image_size = img_side_len\n",
    "    train_file = os.path.join(dataset_path, 'base.json')\n",
    "    mt_datamgr = MetaDataManager(\n",
    "        image_size, batch_size=batch_size_train, n_episodes=n_episodes,\n",
    "        n_way=n_way_train, n_shot=n_shot_train, n_query=max(n_query_train, n_query_pool), fix_support=fix_support)\n",
    "    mt_loader = mt_datamgr.get_data_loader(\n",
    "        dataset_path.split('/')[-1], train_file, support_aug=support_aug, query_aug=train_aug)\n",
    "    if seed is not None:\n",
    "        import time\n",
    "        t = 1000 * time.time() # current time in milliseconds\n",
    "        np.random.seed(int(t) % 2**32)\n",
    "        print(\"Resetting random seed\")\n",
    "    return (mt_loader, mt_datamgr)"
   ]
  },
  {
   "cell_type": "code",
   "execution_count": 11,
   "metadata": {},
   "outputs": [],
   "source": [
    "def read_random_seed(model_path):\n",
    "    with open(os.path.join(model_path, 'config.txt')) as f:\n",
    "        for line in f.readlines():\n",
    "            line = line.strip('\\n')\n",
    "            if 'random_seed' in line:\n",
    "                return int(line.split(\":\")[-1])\n",
    "    return None"
   ]
  },
  {
   "cell_type": "code",
   "execution_count": 12,
   "metadata": {},
   "outputs": [],
   "source": [
    "%%capture\n",
    "random_fixed_support_loaders = [fetch_loader(n_episodes=n_episodes, fix_support=n_shot_train) for _ in range(n_curves)]"
   ]
  },
  {
   "cell_type": "code",
   "execution_count": 13,
   "metadata": {},
   "outputs": [
    {
     "name": "stdout",
     "output_type": "stream",
     "text": [
      "support aug: False query aug: False\n",
      "Support set is fixed: False\n"
     ]
    }
   ],
   "source": [
    "vanilla_meta_loader = fetch_loader(n_episodes=500)"
   ]
  },
  {
   "cell_type": "code",
   "execution_count": 14,
   "metadata": {},
   "outputs": [
    {
     "name": "stdout",
     "output_type": "stream",
     "text": [
      "Setting seed to 0\n",
      "support aug: False query aug: False\n",
      "Support set is fixed: True\n",
      "Resetting random seed\n"
     ]
    }
   ],
   "source": [
    "specific_support_loader = fetch_loader(seed=read_random_seed(model_path), n_episodes=n_episodes, fix_support=n_shot_train)"
   ]
  },
  {
   "cell_type": "code",
   "execution_count": null,
   "metadata": {},
   "outputs": [],
   "source": []
  },
  {
   "cell_type": "code",
   "execution_count": null,
   "metadata": {},
   "outputs": [],
   "source": []
  },
  {
   "cell_type": "markdown",
   "metadata": {},
   "source": [
    "# step 2: Load models and evaluate objectives"
   ]
  },
  {
   "cell_type": "code",
   "execution_count": 15,
   "metadata": {},
   "outputs": [],
   "source": [
    "def evaluate(train_loader, model):\n",
    "    algorithm = ProtoNet(\n",
    "        model=model,\n",
    "        inner_loss_func=torch.nn.CrossEntropyLoss(),\n",
    "        n_way=n_way_train,\n",
    "        n_shot=n_shot_train,\n",
    "        n_query=n_query_train,\n",
    "        device='cuda')\n",
    "    trainer = Generic_adaptation_trainer(\n",
    "        algorithm=algorithm,\n",
    "        aux_objective=None,\n",
    "        outer_loss_func=torch.nn.CrossEntropyLoss(),\n",
    "        outer_optimizer=None, \n",
    "        writer=None,\n",
    "        log_interval=log_interval,\n",
    "        model_type=model_type)\n",
    "    with torch.no_grad():\n",
    "        results = trainer.run(*(train_loader))\n",
    "    return results"
   ]
  },
  {
   "cell_type": "code",
   "execution_count": null,
   "metadata": {},
   "outputs": [
    {
     "name": "stdout",
     "output_type": "stream",
     "text": [
      "****************************************************************************************************\n",
      "loading classical_resnet_001.pt\n",
      "Unit norm projection is  False\n",
      "loading from ../train_dir_2/fixS5_conv64_r12_n20_s5_q15_qp15_bs1_euc_drop20/classical_resnet_001.pt\n",
      "Missed 0 keys\n",
      "----------------------------------------\n",
      "Evaluating on random support  1\n",
      "n_way: 5, n_shot: 5, n_query: 15, batch_sz: 4\n",
      "Setting scale to  tensor([10.3515], device='cuda:0')\n",
      "62it [04:09,  7.84s/it]"
     ]
    }
   ],
   "source": [
    "train_loss = defaultdict(list)\n",
    "r = re.compile(\".*pt\")\n",
    "for modelfile in sorted(list(filter(r.match, os.listdir(model_path)))):\n",
    "    print(\"**\"*50)\n",
    "    print(\"loading\", modelfile)\n",
    "    modelfile = os.path.join(model_path, modelfile)\n",
    "    model = load_model(modelfile)\n",
    "    for i in range(len(random_fixed_support_loaders)):\n",
    "        print(\"--\"*20)\n",
    "        print(\"Evaluating on random support \", i+1)\n",
    "        train_loss[\"random_\" + str(i)].append(evaluate(random_fixed_support_loaders[i], model))\n",
    "    print(\"--\"*20)\n",
    "    print(\"Evaluating on specific support \")\n",
    "    train_loss['specific'].append(evaluate(specific_support_loader, model))\n",
    "    train_loss['avg'].append(evaluate(vanilla_meta_loader, model))\n",
    "    print(\"Saving results \")\n",
    "    with open(\"train_analysis_run_\"+model_path.split('/')[-1]+\".pkl\", 'wb') as f:\n",
    "        torch.save(train_loss, f)"
   ]
  },
  {
   "cell_type": "code",
   "execution_count": null,
   "metadata": {},
   "outputs": [],
   "source": []
  },
  {
   "cell_type": "markdown",
   "metadata": {},
   "source": [
    "# step 3: plots"
   ]
  },
  {
   "cell_type": "code",
   "execution_count": 9,
   "metadata": {
    "scrolled": true
   },
   "outputs": [
    {
     "data": {
      "image/png": "[encoded data removed]",
      "text/plain": [
       "<Figure size 432x288 with 1 Axes>"
      ]
     },
     "metadata": {
      "needs_background": "light"
     },
     "output_type": "display_data"
    }
   ],
   "source": [
    "train_loss = torch.load('train_analysis_run_fixS5_cifar_r12_n20_s5_q15_qp50_euc_run2.pkl')\n",
    "from matplotlib.patches import Patch\n",
    "from matplotlib.lines import Line2D\n",
    "\n",
    "# Create the figure\n",
    "fig, ax = plt.subplots()\n",
    "\n",
    "for k in range(0, 10):\n",
    "    values = [train_loss[\"random_\"+str(k)][x]['test_loss_after']['loss'] for x in range(len(train_loss[\"random_\"+str(k)]))]\n",
    "    ax.plot(np.arange(len(values)), values, color=\"g\", alpha=0.5)\n",
    "values = [train_loss['avg'][x]['test_loss_after']['loss'] for x in range(len(train_loss['avg']))]\n",
    "ax.plot(np.arange(len(values)), values, color=\"r\", alpha=0.95)\n",
    "values = [train_loss['specific'][x]['test_loss_after']['loss'] for x in range(len(train_loss['avg']))]\n",
    "ax.plot(np.arange(len(values)), values, color=\"b\", alpha=0.95)\n",
    "\n",
    "ax.set_ylabel(\"Train Loss\", size=12)\n",
    "ax.set_xlabel(\"Epochs\", size=12)\n",
    "# ax.set_xticks(np.arange(0, 61))\n",
    "# ax.set_xticklabels([str(x) for x in np.arange(0, 61)])\n",
    "ax.set_xticks(np.arange(0, len(train_loss[\"avg\"])+5, 5))\n",
    "\n",
    "legend_elements = [\n",
    "            Line2D([0], [0], marker='o', color='w', label='$S_{p,0}$ used in training FIX-ML',\n",
    "                          markerfacecolor='b', markersize=10),\n",
    "                  Line2D([0], [0], marker='o', color='w', label='10 randomly sampled $S_{p}$',\n",
    "                          markerfacecolor='g', markersize=10),\n",
    "                  Line2D([0], [0], marker='o', color='w', label='Average over all support pools $(\\mathrm{E}_{S_p})$',\n",
    "                          markerfacecolor='r', markersize=10)]\n",
    "\n",
    "ax.legend(handles=legend_elements, loc='upper right')\n",
    "plt.title('CIFAR-FS 5w5s')\n",
    "# plt.show()\n",
    "plt.savefig('CIFAR-FS-5w5s-trajectory.pdf')"
   ]
  },
  {
   "cell_type": "code",
   "execution_count": null,
   "metadata": {},
   "outputs": [],
   "source": []
  }
 ],
 "metadata": {
  "kernelspec": {
   "display_name": "Python 3",
   "language": "python",
   "name": "python3"
  },
  "language_info": {
   "codemirror_mode": {
    "name": "ipython",
    "version": 3
   },
   "file_extension": ".py",
   "mimetype": "text/x-python",
   "name": "python",
   "nbconvert_exporter": "python",
   "pygments_lexer": "ipython3",
   "version": "3.7.4"
  }
 },
 "nbformat": 4,
 "nbformat_minor": 4
}

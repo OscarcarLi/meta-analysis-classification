{
 "cells": [
  {
   "cell_type": "code",
   "execution_count": 1,
   "metadata": {},
   "outputs": [],
   "source": [
    "import numpy as np\n",
    "import matplotlib.pyplot as plt\n",
    "import re"
   ]
  },
  {
   "cell_type": "code",
   "execution_count": 2,
   "metadata": {},
   "outputs": [],
   "source": [
    "path = '../runs/metal_MI_r12_PNeuc_n5s5q15Vtb4_SGD0.1Drop204050_basetest_chkpt031_vs_metal_MI_r12_PNeuc_n5s5q15Vtb4_SGD0.1Drop204050_basetest_chkpt041//novel_acc_variance_10.txt'"
   ]
  },
  {
   "cell_type": "code",
   "execution_count": 3,
   "metadata": {},
   "outputs": [
    {
     "name": "stdout",
     "output_type": "stream",
     "text": [
      "100\n"
     ]
    }
   ],
   "source": [
    "file = open(path, 'r')\n",
    "lines = file.readlines()[3:]\n",
    "print(len(lines))"
   ]
  },
  {
   "cell_type": "code",
   "execution_count": 4,
   "metadata": {},
   "outputs": [],
   "source": [
    "p = re.compile(r'Alg1: Loss\\s*(?P<loss1>\\d+\\.\\d+)\\s*Acc\\s*(?P<accu1>\\d+\\.\\d+)\\s*AccStd\\s*\\d+\\.\\d+\\s*±\\s*(?P<std1>\\d+\\.\\d+)\\s*Alg2: Loss\\s*(?P<loss2>\\d+\\.\\d+)\\s*Acc\\s*(?P<accu2>\\d+\\.\\d+)\\s*AccStd\\s*\\d+\\.\\d+\\s*±\\s*(?P<std2>\\d+\\.\\d+)')\n",
    "p2 = re.compile(r'\\d+[.]\\d+') #"
   ]
  },
  {
   "cell_type": "code",
   "execution_count": 5,
   "metadata": {},
   "outputs": [],
   "source": [
    "# another way is use the regular expression r'\\d+[.]\\d+' and find all such occurences."
   ]
  },
  {
   "cell_type": "code",
   "execution_count": 6,
   "metadata": {},
   "outputs": [],
   "source": [
    "alg1_accu = []\n",
    "alg1_loss = []\n",
    "alg1_95 = []\n",
    "alg2_accu = []\n",
    "alg2_loss = []\n",
    "alg2_95 = []"
   ]
  },
  {
   "cell_type": "code",
   "execution_count": 7,
   "metadata": {},
   "outputs": [],
   "source": [
    "for i in range(len(lines)):\n",
    "    m = p.search(lines[i].replace(\"%\",\"\"))\n",
    "#     print(m)\n",
    "#     print(p2.findall(lines[9 * i + 8]))\n",
    "    if m:\n",
    "        # if m is not None then have found a matching pattern\n",
    "        alg1_accu.append(float(m.group('accu1')))\n",
    "        alg1_loss.append(float(m.group('loss1')))\n",
    "        alg1_95.append(float(m.group('std1')))\n",
    "        alg2_accu.append(float(m.group('accu2')))\n",
    "        alg2_loss.append(float(m.group('loss2')))\n",
    "        alg2_95.append(float(m.group('std2')))\n",
    "\n",
    "alg2_accu = np.array(alg2_accu)\n",
    "alg1_accu = np.array(alg1_accu)"
   ]
  },
  {
   "cell_type": "code",
   "execution_count": 8,
   "metadata": {},
   "outputs": [
    {
     "data": {
      "text/plain": [
       "100"
      ]
     },
     "execution_count": 8,
     "metadata": {},
     "output_type": "execute_result"
    }
   ],
   "source": [
    "len(alg2_accu)"
   ]
  },
  {
   "cell_type": "code",
   "execution_count": 9,
   "metadata": {},
   "outputs": [
    {
     "data": {
      "text/plain": [
       "75.87298"
      ]
     },
     "execution_count": 9,
     "metadata": {},
     "output_type": "execute_result"
    }
   ],
   "source": [
    "np.mean(alg1_accu)"
   ]
  },
  {
   "cell_type": "code",
   "execution_count": 10,
   "metadata": {},
   "outputs": [
    {
     "data": {
      "text/plain": [
       "0.1091"
      ]
     },
     "execution_count": 10,
     "metadata": {},
     "output_type": "execute_result"
    }
   ],
   "source": [
    "np.mean(alg1_95)"
   ]
  },
  {
   "cell_type": "code",
   "execution_count": 11,
   "metadata": {},
   "outputs": [
    {
     "data": {
      "text/plain": [
       "76.59701"
      ]
     },
     "execution_count": 11,
     "metadata": {},
     "output_type": "execute_result"
    }
   ],
   "source": [
    "np.mean(alg2_accu)"
   ]
  },
  {
   "cell_type": "code",
   "execution_count": 22,
   "metadata": {},
   "outputs": [
    {
     "data": {
      "text/plain": [
       "<matplotlib.lines.Line2D at 0x7fcb6e443710>"
      ]
     },
     "execution_count": 22,
     "metadata": {},
     "output_type": "execute_result"
    },
    {
     "data": {
      "image/png": "[encoded data removed]",
      "text/plain": [
       "<Figure size 432x288 with 1 Axes>"
      ]
     },
     "metadata": {
      "needs_background": "light"
     },
     "output_type": "display_data"
    }
   ],
   "source": [
    "plt.hist(alg2_accu)\n",
    "plt.xlabel('accu')\n",
    "plt.title('alg2 different 10 out of 120 accuracies histogram')\n",
    "plt.axvline(x=np.mean(alg2_accu), color='r')"
   ]
  },
  {
   "cell_type": "code",
   "execution_count": 13,
   "metadata": {},
   "outputs": [
    {
     "data": {
      "text/plain": [
       "<matplotlib.lines.Line2D at 0x7fcb70ad2050>"
      ]
     },
     "execution_count": 13,
     "metadata": {},
     "output_type": "execute_result"
    },
    {
     "data": {
      "image/png": "[encoded data removed]",
      "text/plain": [
       "<Figure size 432x288 with 1 Axes>"
      ]
     },
     "metadata": {
      "needs_background": "light"
     },
     "output_type": "display_data"
    }
   ],
   "source": [
    "plt.hist(alg2_accu - alg1_accu, bins=15)\n",
    "plt.xlabel('accu2 - accu1')\n",
    "plt.title('a2-a1 accu difference over different 10 out of 120 accuracies')\n",
    "plt.axvline(x=np.mean(alg2_accu - alg1_accu), color='r')"
   ]
  },
  {
   "cell_type": "code",
   "execution_count": 14,
   "metadata": {},
   "outputs": [
    {
     "data": {
      "text/plain": [
       "17"
      ]
     },
     "execution_count": 14,
     "metadata": {},
     "output_type": "execute_result"
    }
   ],
   "source": [
    "np.sum(alg2_accu < alg1_accu)"
   ]
  },
  {
   "cell_type": "code",
   "execution_count": 15,
   "metadata": {},
   "outputs": [],
   "source": [
    "# note that this only checks for intersection.\n",
    "# if the lower performing model's CI is actually completely higher than\n",
    "# the high performing model's CI, it won't be found by this\n",
    "def intersect(midpoint_1, width_1, midpoint_2, width_2):\n",
    "    not_intersect = (midpoint_1 + width_1 < midpoint_2 - width_2) or (midpoint_2 + width_2 < midpoint_1 - width_1)\n",
    "    return not not_intersect"
   ]
  },
  {
   "cell_type": "code",
   "execution_count": 16,
   "metadata": {},
   "outputs": [],
   "source": [
    "# this checks for conclusion flips when the CIs dont overlap.\n",
    "# if expected_smaller_midpoint is 1 then we need midpoint_2 + width_2 < midpoint_1 - width_1 (default)\n",
    "# if expected_smaller_midpoint is 2 then we need midpoint_1 + width_1 < midpoint_2 - width_2\n",
    "def flip_without_intersect(midpoint_1, width_1, midpoint_2, width_2, expected_smaller_midpoint=1):\n",
    "    if expected_smaller_midpoint == 1:\n",
    "        return midpoint_2 + width_2 < midpoint_1 - width_1\n",
    "    else:\n",
    "        return midpoint_1 + width_1 < midpoint_2 - width_2"
   ]
  },
  {
   "cell_type": "code",
   "execution_count": 17,
   "metadata": {},
   "outputs": [
    {
     "name": "stdout",
     "output_type": "stream",
     "text": [
      "74.25 0.13 74.424 0.12\n",
      "70.958 0.14 71.206 0.13\n",
      "77.651 0.09 77.496 0.1\n",
      "81.586 0.13 81.464 0.13\n",
      "76.475 0.13 76.643 0.13\n",
      "67.645 0.15 67.845 0.15\n",
      "77.022 0.11 76.948 0.11\n",
      "75.88 0.12 76.036 0.12\n",
      "74.25 0.1 74.324 0.1\n",
      "76.319 0.13 76.392 0.13\n",
      "71.265 0.12 71.292 0.12\n",
      "67.452 0.13 67.211 0.13\n",
      "72.951 0.11 72.999 0.11\n",
      "79.431 0.09 79.556 0.1\n"
     ]
    }
   ],
   "source": [
    "intersection_indicator = []\n",
    "for accu1, width_1, accu2, width_2 in zip(alg1_accu, alg1_95, alg2_accu, alg2_95):\n",
    "    its = intersect(\n",
    "                midpoint_1=accu1,\n",
    "                width_1=width_1,\n",
    "                midpoint_2=accu2,\n",
    "                width_2=width_2)\n",
    "    if its:\n",
    "        print(accu1, width_1, accu2, width_2)\n",
    "    intersection_indicator.append(its)"
   ]
  },
  {
   "cell_type": "code",
   "execution_count": 18,
   "metadata": {},
   "outputs": [
    {
     "data": {
      "text/plain": [
       "14"
      ]
     },
     "execution_count": 18,
     "metadata": {},
     "output_type": "execute_result"
    }
   ],
   "source": [
    "np.sum(intersection_indicator)"
   ]
  },
  {
   "cell_type": "code",
   "execution_count": 19,
   "metadata": {},
   "outputs": [
    {
     "name": "stdout",
     "output_type": "stream",
     "text": [
      "72.203 0.12 71.842 0.12\n",
      "66.837 0.12 66.453 0.12\n",
      "82.871 0.09 82.219 0.09\n",
      "77.938 0.1 77.615 0.09\n",
      "74.732 0.12 74.412 0.12\n",
      "81.239 0.1 80.872 0.11\n",
      "64.794 0.11 64.391 0.11\n",
      "71.606 0.11 71.266 0.11\n",
      "80.883 0.09 80.279 0.09\n",
      "74.983 0.11 74.415 0.11\n",
      "78.495 0.11 78.189 0.12\n",
      "71.742 0.11 71.127 0.12\n",
      "71.885 0.11 71.572 0.11\n"
     ]
    }
   ],
   "source": [
    "flips_without_intersection_indicator = []\n",
    "for accu1, width_1, accu2, width_2 in zip(alg1_accu, alg1_95, alg2_accu, alg2_95):\n",
    "    flip_wo_its = flip_without_intersect(\n",
    "                midpoint_1=accu1,\n",
    "                width_1=width_1,\n",
    "                midpoint_2=accu2,\n",
    "                width_2=width_2,\n",
    "                expected_smaller_midpoint=1)\n",
    "    if flip_wo_its:\n",
    "        print(accu1, width_1, accu2, width_2)\n",
    "    flips_without_intersection_indicator.append(flip_wo_its)"
   ]
  },
  {
   "cell_type": "code",
   "execution_count": 20,
   "metadata": {},
   "outputs": [
    {
     "data": {
      "text/plain": [
       "13"
      ]
     },
     "execution_count": 20,
     "metadata": {},
     "output_type": "execute_result"
    }
   ],
   "source": [
    "np.sum(flips_without_intersection_indicator)"
   ]
  }
 ],
 "metadata": {
  "kernelspec": {
   "display_name": "Python 3",
   "language": "python",
   "name": "python3"
  },
  "language_info": {
   "codemirror_mode": {
    "name": "ipython",
    "version": 3
   },
   "file_extension": ".py",
   "mimetype": "text/x-python",
   "name": "python",
   "nbconvert_exporter": "python",
   "pygments_lexer": "ipython3",
   "version": "3.7.4"
  }
 },
 "nbformat": 4,
 "nbformat_minor": 4
}

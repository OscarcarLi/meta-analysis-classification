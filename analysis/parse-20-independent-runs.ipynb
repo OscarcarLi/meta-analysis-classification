{
 "cells": [
  {
   "cell_type": "code",
   "execution_count": 1,
   "metadata": {},
   "outputs": [],
   "source": [
    "import numpy as np\n",
    "import matplotlib.pyplot as plt\n",
    "import re"
   ]
  },
  {
   "cell_type": "code",
   "execution_count": 2,
   "metadata": {},
   "outputs": [],
   "source": [
    "path = '/home/oscarli/projects/meta-analysis-classification/runs/metal_tiered_r12_PN_n20s5q15tb1_SGD0.1Drop204050_base_subset_28:Apr:2021:16:13:46_chkpt023vschkpt021/novel_acc_variance_20.txt'"
   ]
  },
  {
   "cell_type": "markdown",
   "metadata": {},
   "source": [
    "74.10 74.60"
   ]
  },
  {
   "cell_type": "code",
   "execution_count": 3,
   "metadata": {},
   "outputs": [],
   "source": [
    "file = open(path, 'r')"
   ]
  },
  {
   "cell_type": "code",
   "execution_count": 4,
   "metadata": {},
   "outputs": [
    {
     "name": "stdout",
     "output_type": "stream",
     "text": [
      "130\n"
     ]
    }
   ],
   "source": [
    "lines = file.readlines()\n",
    "print(len(lines))"
   ]
  },
  {
   "cell_type": "code",
   "execution_count": 5,
   "metadata": {},
   "outputs": [],
   "source": [
    "lines = lines[3:]"
   ]
  },
  {
   "cell_type": "code",
   "execution_count": 6,
   "metadata": {},
   "outputs": [
    {
     "data": {
      "text/plain": [
       "127"
      ]
     },
     "execution_count": 6,
     "metadata": {},
     "output_type": "execute_result"
    }
   ],
   "source": [
    "len(lines)"
   ]
  },
  {
   "cell_type": "code",
   "execution_count": 7,
   "metadata": {},
   "outputs": [],
   "source": [
    "p = re.compile(r'Alg1: Loss\\s*(?P<loss1>\\d+\\.\\d+)\\s*Acc\\s*(?P<accu1>\\d+\\.\\d+)\\s*AccStd\\s*\\d+\\.\\d+\\s*±\\s*(?P<std1>\\d+\\.\\d+)\\s*Alg2: Loss\\s*(?P<loss2>\\d+\\.\\d+)\\s*Acc\\s*(?P<accu2>\\d+\\.\\d+)\\s*AccStd\\s*\\d+\\.\\d+\\s*±\\s*(?P<std2>\\d+\\.\\d+)')\n",
    "p2 = re.compile(r'\\d+[.]\\d+') #"
   ]
  },
  {
   "cell_type": "code",
   "execution_count": 8,
   "metadata": {},
   "outputs": [],
   "source": [
    "# another way is use the regular expression r'\\d+[.]\\d+' and find all such occurences."
   ]
  },
  {
   "cell_type": "code",
   "execution_count": 9,
   "metadata": {},
   "outputs": [],
   "source": [
    "alg1_accu = []\n",
    "alg1_loss = []\n",
    "alg1_95 = []\n",
    "alg2_accu = []\n",
    "alg2_loss = []\n",
    "alg2_95 = []"
   ]
  },
  {
   "cell_type": "code",
   "execution_count": 10,
   "metadata": {},
   "outputs": [],
   "source": [
    "for i in range(len(lines)):\n",
    "    m = p.search(lines[i])\n",
    "#     print(p2.findall(lines[9 * i + 8]))\n",
    "    \n",
    "    alg1_accu.append(float(m.group('accu1')))\n",
    "    alg1_loss.append(float(m.group('loss1')))\n",
    "    alg1_95.append(float(m.group('std1')))\n",
    "    alg2_accu.append(float(m.group('accu2')))\n",
    "    alg2_loss.append(float(m.group('loss2')))\n",
    "    alg2_95.append(float(m.group('std2')))\n",
    "\n",
    "alg2_accu = np.array(alg2_accu)\n",
    "alg1_accu = np.array(alg1_accu)"
   ]
  },
  {
   "cell_type": "code",
   "execution_count": 11,
   "metadata": {},
   "outputs": [
    {
     "data": {
      "text/plain": [
       "127"
      ]
     },
     "execution_count": 11,
     "metadata": {},
     "output_type": "execute_result"
    }
   ],
   "source": [
    "len(alg1_accu)"
   ]
  },
  {
   "cell_type": "code",
   "execution_count": 12,
   "metadata": {},
   "outputs": [
    {
     "data": {
      "text/plain": [
       "73.98216535433068"
      ]
     },
     "execution_count": 12,
     "metadata": {},
     "output_type": "execute_result"
    }
   ],
   "source": [
    "np.mean(alg1_accu)"
   ]
  },
  {
   "cell_type": "code",
   "execution_count": 13,
   "metadata": {},
   "outputs": [
    {
     "data": {
      "text/plain": [
       "0.0862992125984252"
      ]
     },
     "execution_count": 13,
     "metadata": {},
     "output_type": "execute_result"
    }
   ],
   "source": [
    "np.mean(alg1_95)"
   ]
  },
  {
   "cell_type": "code",
   "execution_count": 14,
   "metadata": {},
   "outputs": [
    {
     "data": {
      "text/plain": [
       "74.52366141732283"
      ]
     },
     "execution_count": 14,
     "metadata": {},
     "output_type": "execute_result"
    }
   ],
   "source": [
    "np.mean(alg2_accu)"
   ]
  },
  {
   "cell_type": "code",
   "execution_count": 15,
   "metadata": {},
   "outputs": [
    {
     "data": {
      "text/plain": [
       "<matplotlib.lines.Line2D at 0x7f69e11abc10>"
      ]
     },
     "execution_count": 15,
     "metadata": {},
     "output_type": "execute_result"
    },
    {
     "data": {
      "image/png": "[encoded data removed]",
      "text/plain": [
       "<Figure size 432x288 with 1 Axes>"
      ]
     },
     "metadata": {
      "needs_background": "light"
     },
     "output_type": "display_data"
    }
   ],
   "source": [
    "plt.hist(alg1_accu)\n",
    "plt.xlabel('accu')\n",
    "plt.title('alg1 different 20 out of 552 accuracies histogram')\n",
    "plt.axvline(x=np.mean(alg1_accu), color='r')"
   ]
  },
  {
   "cell_type": "code",
   "execution_count": 16,
   "metadata": {},
   "outputs": [
    {
     "data": {
      "text/plain": [
       "<matplotlib.lines.Line2D at 0x7f69e0e2cbd0>"
      ]
     },
     "execution_count": 16,
     "metadata": {},
     "output_type": "execute_result"
    },
    {
     "data": {
      "image/png": "[encoded data removed]",
      "text/plain": [
       "<Figure size 432x288 with 1 Axes>"
      ]
     },
     "metadata": {
      "needs_background": "light"
     },
     "output_type": "display_data"
    }
   ],
   "source": [
    "plt.hist(alg2_accu - alg1_accu, bins=15)\n",
    "plt.xlabel('accu2 - accu1')\n",
    "plt.title('a2-a1 accu difference over different 20 out of 552 accuracies')\n",
    "plt.axvline(x=np.mean(alg2_accu - alg1_accu), color='r')"
   ]
  },
  {
   "cell_type": "code",
   "execution_count": 17,
   "metadata": {},
   "outputs": [
    {
     "data": {
      "text/plain": [
       "7"
      ]
     },
     "execution_count": 17,
     "metadata": {},
     "output_type": "execute_result"
    }
   ],
   "source": [
    "np.sum(alg2_accu < alg1_accu)"
   ]
  },
  {
   "cell_type": "code",
   "execution_count": 18,
   "metadata": {},
   "outputs": [],
   "source": [
    "# note that this only checks for intersection.\n",
    "# if the lower performing model's CI is actually completely higher than\n",
    "# the high performing model's CI, it won't be found by this\n",
    "def intersect(midpoint_1, width_1, midpoint_2, width_2):\n",
    "    not_intersect = (midpoint_1 + width_1 < midpoint_2 - width_2) or (midpoint_2 + width_2 < midpoint_1 - width_1)\n",
    "    return not not_intersect"
   ]
  },
  {
   "cell_type": "code",
   "execution_count": 19,
   "metadata": {},
   "outputs": [
    {
     "data": {
      "text/plain": [
       "True"
      ]
     },
     "execution_count": 19,
     "metadata": {},
     "output_type": "execute_result"
    }
   ],
   "source": [
    "intersect(2, 0.6, 1, 0.5)"
   ]
  },
  {
   "cell_type": "code",
   "execution_count": 20,
   "metadata": {},
   "outputs": [
    {
     "name": "stdout",
     "output_type": "stream",
     "text": [
      "70.781 0.09 70.866 0.09\n",
      "79.275 0.07 79.271 0.07\n",
      "70.843 0.09 71.008 0.08\n",
      "73.094 0.09 73.096 0.09\n",
      "76.079 0.09 76.241 0.09\n",
      "73.887 0.09 73.996 0.09\n",
      "73.914 0.09 73.735 0.09\n",
      "74.747 0.1 74.865 0.09\n",
      "68.299 0.1 68.193 0.1\n",
      "76.195 0.09 76.228 0.09\n",
      "75.116 0.09 75.142 0.09\n",
      "70.754 0.1 70.952 0.1\n",
      "71.771 0.09 71.76 0.09\n",
      "75.439 0.09 75.436 0.09\n",
      "70.364 0.09 70.317 0.09\n",
      "80.07 0.08 80.143 0.08\n"
     ]
    }
   ],
   "source": [
    "intersection_indicator = []\n",
    "for accu1, width_1, accu2, width_2 in zip(alg1_accu, alg1_95, alg2_accu, alg2_95):\n",
    "    its = intersect(\n",
    "                midpoint_1=accu1,\n",
    "                width_1=width_1,\n",
    "                midpoint_2=accu2,\n",
    "                width_2=width_2)\n",
    "    if its:\n",
    "        print(accu1, width_1, accu2, width_2)\n",
    "    intersection_indicator.append(its)"
   ]
  },
  {
   "cell_type": "code",
   "execution_count": 21,
   "metadata": {},
   "outputs": [
    {
     "data": {
      "text/plain": [
       "16"
      ]
     },
     "execution_count": 21,
     "metadata": {},
     "output_type": "execute_result"
    }
   ],
   "source": [
    "np.sum(intersection_indicator)"
   ]
  }
 ],
 "metadata": {
  "kernelspec": {
   "display_name": "Python 3",
   "language": "python",
   "name": "python3"
  },
  "language_info": {
   "codemirror_mode": {
    "name": "ipython",
    "version": 3
   },
   "file_extension": ".py",
   "mimetype": "text/x-python",
   "name": "python",
   "nbconvert_exporter": "python",
   "pygments_lexer": "ipython3",
   "version": "3.7.6"
  }
 },
 "nbformat": 4,
 "nbformat_minor": 4
}
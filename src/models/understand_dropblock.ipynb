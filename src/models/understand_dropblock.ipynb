{
 "cells": [
  {
   "cell_type": "markdown",
   "metadata": {},
   "source": [
    "# understand how DropBlock works"
   ]
  },
  {
   "cell_type": "code",
   "execution_count": 1,
   "metadata": {},
   "outputs": [],
   "source": [
    "import torch\n",
    "from dropblock import DropBlock"
   ]
  },
  {
   "cell_type": "code",
   "execution_count": 2,
   "metadata": {},
   "outputs": [],
   "source": [
    "import os\n",
    "os.environ[\"CUDA_VISIBLE_DEVICES\"] = '2'"
   ]
  },
  {
   "cell_type": "code",
   "execution_count": 3,
   "metadata": {},
   "outputs": [
    {
     "name": "stdout",
     "output_type": "stream",
     "text": [
      "Using GPUs:  2\n"
     ]
    }
   ],
   "source": [
    "print('Using GPUs: ', os.environ[\"CUDA_VISIBLE_DEVICES\"])"
   ]
  },
  {
   "cell_type": "code",
   "execution_count": 4,
   "metadata": {},
   "outputs": [],
   "source": [
    "db = DropBlock(block_size=3)"
   ]
  },
  {
   "cell_type": "code",
   "execution_count": 5,
   "metadata": {},
   "outputs": [
    {
     "data": {
      "text/plain": [
       "True"
      ]
     },
     "execution_count": 5,
     "metadata": {},
     "output_type": "execute_result"
    }
   ],
   "source": [
    "db.training"
   ]
  },
  {
   "cell_type": "code",
   "execution_count": 6,
   "metadata": {},
   "outputs": [],
   "source": [
    "a = torch.ones(size=(1,2,7,7), dtype=torch.float32)"
   ]
  },
  {
   "cell_type": "code",
   "execution_count": 7,
   "metadata": {},
   "outputs": [
    {
     "data": {
      "text/plain": [
       "tensor([[[[1.4627, 1.4627, 1.4627, 1.4627, 1.4627, 1.4627, 1.4627],\n",
       "          [1.4627, 1.4627, 1.4627, 1.4627, 1.4627, 1.4627, 1.4627],\n",
       "          [1.4627, 1.4627, 1.4627, 1.4627, 1.4627, 1.4627, 1.4627],\n",
       "          [1.4627, 1.4627, 1.4627, 1.4627, 1.4627, 1.4627, 1.4627],\n",
       "          [1.4627, 1.4627, 0.0000, 0.0000, 0.0000, 0.0000, 0.0000],\n",
       "          [1.4627, 1.4627, 0.0000, 0.0000, 0.0000, 0.0000, 0.0000],\n",
       "          [1.4627, 1.4627, 0.0000, 0.0000, 0.0000, 0.0000, 0.0000]],\n",
       "\n",
       "         [[1.4627, 1.4627, 1.4627, 1.4627, 1.4627, 1.4627, 1.4627],\n",
       "          [1.4627, 0.0000, 0.0000, 0.0000, 1.4627, 1.4627, 1.4627],\n",
       "          [1.4627, 0.0000, 0.0000, 0.0000, 1.4627, 1.4627, 1.4627],\n",
       "          [0.0000, 0.0000, 0.0000, 0.0000, 1.4627, 1.4627, 1.4627],\n",
       "          [0.0000, 0.0000, 0.0000, 1.4627, 1.4627, 1.4627, 1.4627],\n",
       "          [0.0000, 0.0000, 0.0000, 1.4627, 1.4627, 1.4627, 1.4627],\n",
       "          [1.4627, 1.4627, 1.4627, 1.4627, 1.4627, 1.4627, 1.4627]]]])"
      ]
     },
     "execution_count": 7,
     "metadata": {},
     "output_type": "execute_result"
    }
   ],
   "source": [
    "db(a, gamma=0.1)"
   ]
  },
  {
   "cell_type": "code",
   "execution_count": 8,
   "metadata": {},
   "outputs": [],
   "source": [
    "block_size = 3"
   ]
  },
  {
   "cell_type": "code",
   "execution_count": 9,
   "metadata": {},
   "outputs": [
    {
     "data": {
      "text/plain": [
       "tensor([0, 0, 0, 1, 1, 1, 2, 2, 2])"
      ]
     },
     "execution_count": 9,
     "metadata": {},
     "output_type": "execute_result"
    }
   ],
   "source": [
    "torch.arange(block_size).view(-1, 1).expand(block_size, block_size).reshape(-1).t()"
   ]
  },
  {
   "cell_type": "code",
   "execution_count": 10,
   "metadata": {},
   "outputs": [
    {
     "data": {
      "text/plain": [
       "tensor([0, 1, 2, 0, 1, 2, 0, 1, 2])"
      ]
     },
     "execution_count": 10,
     "metadata": {},
     "output_type": "execute_result"
    }
   ],
   "source": [
    "torch.arange(block_size).repeat(block_size)"
   ]
  },
  {
   "cell_type": "code",
   "execution_count": 11,
   "metadata": {},
   "outputs": [],
   "source": [
    "offsets = torch.stack(\n",
    "        [\n",
    "            torch.arange(block_size).view(-1, 1).expand(block_size, block_size).reshape(-1), # - left_padding,\n",
    "            torch.arange(block_size).repeat(block_size), #- left_padding\n",
    "        ]).t()"
   ]
  },
  {
   "cell_type": "code",
   "execution_count": 12,
   "metadata": {},
   "outputs": [
    {
     "data": {
      "text/plain": [
       "tensor([[0, 0],\n",
       "        [0, 1],\n",
       "        [0, 2],\n",
       "        [1, 0],\n",
       "        [1, 1],\n",
       "        [1, 2],\n",
       "        [2, 0],\n",
       "        [2, 1],\n",
       "        [2, 2]])"
      ]
     },
     "execution_count": 12,
     "metadata": {},
     "output_type": "execute_result"
    }
   ],
   "source": [
    "offsets"
   ]
  },
  {
   "cell_type": "code",
   "execution_count": 13,
   "metadata": {},
   "outputs": [],
   "source": [
    "offsets = offsets.repeat(10, 1)"
   ]
  },
  {
   "cell_type": "code",
   "execution_count": null,
   "metadata": {},
   "outputs": [],
   "source": []
  }
 ],
 "metadata": {
  "kernelspec": {
   "display_name": "Python 3.7.6 64-bit ('py37': conda)",
   "language": "python",
   "name": "python37664bitpy37condadb70aabb01fa463792e58b65dd1b6927"
  },
  "language_info": {
   "codemirror_mode": {
    "name": "ipython",
    "version": 3
   },
   "file_extension": ".py",
   "mimetype": "text/x-python",
   "name": "python",
   "nbconvert_exporter": "python",
   "pygments_lexer": "ipython3",
   "version": "3.7.6"
  }
 },
 "nbformat": 4,
 "nbformat_minor": 4
}

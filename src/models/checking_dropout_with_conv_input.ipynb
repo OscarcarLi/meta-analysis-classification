{
 "cells": [
  {
   "cell_type": "markdown",
   "metadata": {},
   "source": [
    "# checking dropout with convolutional input"
   ]
  },
  {
   "cell_type": "code",
   "execution_count": 1,
   "metadata": {},
   "outputs": [],
   "source": [
    "import torch"
   ]
  },
  {
   "cell_type": "code",
   "execution_count": 3,
   "metadata": {},
   "outputs": [],
   "source": [
    "a = torch.rand(size=(10,3,9,9))"
   ]
  },
  {
   "cell_type": "code",
   "execution_count": 4,
   "metadata": {},
   "outputs": [
    {
     "data": {
      "text/plain": [
       "tensor([[0.1778, 0.7016, 0.6622, 0.6064, 0.4926, 0.9568, 0.5801, 0.4622, 0.0534],\n",
       "        [0.1580, 0.4153, 0.0963, 0.4467, 0.3285, 0.7584, 0.9245, 0.8254, 0.2960],\n",
       "        [0.7138, 0.1868, 0.8126, 0.4354, 0.0418, 0.5345, 0.6155, 0.1883, 0.0128],\n",
       "        [0.3872, 0.0768, 0.6804, 0.3137, 0.4320, 0.3258, 0.8519, 0.9916, 0.2220],\n",
       "        [0.8366, 0.2544, 0.6126, 0.6219, 0.0047, 0.3863, 0.7217, 0.1556, 0.8703],\n",
       "        [0.3117, 0.1642, 0.5693, 0.4424, 0.5885, 0.5475, 0.1451, 0.2196, 0.0374],\n",
       "        [0.3411, 0.4574, 0.6424, 0.0433, 0.6089, 0.1919, 0.1416, 0.9189, 0.3324],\n",
       "        [0.1441, 0.4436, 0.4237, 0.8209, 0.5592, 0.5666, 0.5536, 0.4123, 0.1522],\n",
       "        [0.8201, 0.0117, 0.4775, 0.8544, 0.5196, 0.9659, 0.2612, 0.4599, 0.7818]])"
      ]
     },
     "execution_count": 4,
     "metadata": {},
     "output_type": "execute_result"
    }
   ],
   "source": [
    "a[0][0]"
   ]
  },
  {
   "cell_type": "code",
   "execution_count": 13,
   "metadata": {},
   "outputs": [],
   "source": [
    "dropout = torch.nn.Dropout(p=0.5, inplace=False)\n",
    "dropout2d = torch.nn.Dropout2d(p=0.5, inplace=False)"
   ]
  },
  {
   "cell_type": "code",
   "execution_count": 7,
   "metadata": {},
   "outputs": [],
   "source": [
    "a_new = dropout(a)"
   ]
  },
  {
   "cell_type": "code",
   "execution_count": 12,
   "metadata": {},
   "outputs": [
    {
     "data": {
      "text/plain": [
       "tensor([[0.0000, 1.4032, 1.3244, 0.0000, 0.0000, 1.9136, 0.0000, 0.0000, 0.0000],\n",
       "        [0.3160, 0.8307, 0.0000, 0.0000, 0.0000, 0.0000, 0.0000, 0.0000, 0.0000],\n",
       "        [1.4276, 0.3736, 1.6253, 0.0000, 0.0837, 0.0000, 1.2310, 0.3766, 0.0257],\n",
       "        [0.0000, 0.1535, 1.3607, 0.0000, 0.0000, 0.6516, 0.0000, 1.9832, 0.0000],\n",
       "        [0.0000, 0.0000, 0.0000, 0.0000, 0.0093, 0.0000, 1.4434, 0.3112, 1.7405],\n",
       "        [0.6234, 0.0000, 1.1387, 0.0000, 1.1771, 1.0950, 0.2902, 0.4392, 0.0747],\n",
       "        [0.6822, 0.9148, 0.0000, 0.0000, 1.2178, 0.3837, 0.2832, 1.8377, 0.6647],\n",
       "        [0.2882, 0.8872, 0.8473, 1.6417, 0.0000, 0.0000, 0.0000, 0.0000, 0.3045],\n",
       "        [0.0000, 0.0234, 0.9551, 0.0000, 1.0392, 1.9317, 0.5225, 0.0000, 0.0000]])"
      ]
     },
     "execution_count": 12,
     "metadata": {},
     "output_type": "execute_result"
    }
   ],
   "source": [
    "a_new[0][0]"
   ]
  },
  {
   "cell_type": "code",
   "execution_count": 22,
   "metadata": {},
   "outputs": [],
   "source": [
    "a2 = dropout2d(a)"
   ]
  },
  {
   "cell_type": "code",
   "execution_count": 23,
   "metadata": {},
   "outputs": [
    {
     "data": {
      "text/plain": [
       "tensor([[0., 0., 0., 0., 0., 0., 0., 0., 0.],\n",
       "        [0., 0., 0., 0., 0., 0., 0., 0., 0.],\n",
       "        [0., 0., 0., 0., 0., 0., 0., 0., 0.],\n",
       "        [0., 0., 0., 0., 0., 0., 0., 0., 0.],\n",
       "        [0., 0., 0., 0., 0., 0., 0., 0., 0.],\n",
       "        [0., 0., 0., 0., 0., 0., 0., 0., 0.],\n",
       "        [0., 0., 0., 0., 0., 0., 0., 0., 0.],\n",
       "        [0., 0., 0., 0., 0., 0., 0., 0., 0.],\n",
       "        [0., 0., 0., 0., 0., 0., 0., 0., 0.]])"
      ]
     },
     "execution_count": 23,
     "metadata": {},
     "output_type": "execute_result"
    }
   ],
   "source": [
    "a2[0][2]"
   ]
  },
  {
   "cell_type": "code",
   "execution_count": null,
   "metadata": {},
   "outputs": [],
   "source": []
  }
 ],
 "metadata": {
  "kernelspec": {
   "display_name": "Python 3.7.6 64-bit ('py37': conda)",
   "language": "python",
   "name": "python37664bitpy37condadb70aabb01fa463792e58b65dd1b6927"
  },
  "language_info": {
   "codemirror_mode": {
    "name": "ipython",
    "version": 3
   },
   "file_extension": ".py",
   "mimetype": "text/x-python",
   "name": "python",
   "nbconvert_exporter": "python",
   "pygments_lexer": "ipython3",
   "version": "3.7.6"
  }
 },
 "nbformat": 4,
 "nbformat_minor": 4
}

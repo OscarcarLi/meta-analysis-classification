{
 "cells": [
  {
   "cell_type": "code",
   "execution_count": 1,
   "metadata": {},
   "outputs": [],
   "source": [
    "from tqdm import tqdm\n",
    "import numpy as np\n",
    "import matplotlib.pyplot as plt"
   ]
  },
  {
   "cell_type": "code",
   "execution_count": 2,
   "metadata": {},
   "outputs": [],
   "source": [
    "def uniform_hypersphere(d):\n",
    "    # sample a point uniformly from d-1 sphere\n",
    "    x = np.random.randn(d)\n",
    "    x /= np.linalg.norm(x)\n",
    "    return x"
   ]
  },
  {
   "cell_type": "code",
   "execution_count": 3,
   "metadata": {},
   "outputs": [],
   "source": [
    "def y_sample(D, c, X):\n",
    "    y = X @ (D @ c) # no noise added\n",
    "    return y\n",
    "def X_sample(n, d, distribution_sample):\n",
    "    # a n \\times d matrix with each row sampled according to function distribution_sample\n",
    "    X = []\n",
    "    for i in range(n):\n",
    "        X.append(distribution_sample(d))\n",
    "    return np.array(X)\n",
    "\n",
    "def c_sample(k, distribution_sample):\n",
    "    # a k dimensional vector sampled according to distribution_sample\n",
    "    return distribution_sample(k)"
   ]
  },
  {
   "cell_type": "markdown",
   "metadata": {},
   "source": [
    "if n = 6 or 7, the performance is not that good"
   ]
  },
  {
   "cell_type": "code",
   "execution_count": 4,
   "metadata": {},
   "outputs": [],
   "source": [
    "n = 10 # number of examples per task\n",
    "d = 50 # ambient dimension\n",
    "k = 5 # subspace dimension\n",
    "T = 1000 # total number of tasks\n",
    "M = 100 # total number of X matrix of shape n \\times d\n",
    "m = 10 # totatl number of fixML's matrix X"
   ]
  },
  {
   "cell_type": "code",
   "execution_count": 5,
   "metadata": {},
   "outputs": [],
   "source": [
    "X_pool = [X_sample(n=n, d=d, distribution_sample=uniform_hypersphere) for i in range(M)]\n",
    "X_fix_pool = X_pool[:m]\n",
    "c_pool = [c_sample(k, distribution_sample=uniform_hypersphere) for i in range(T)]"
   ]
  },
  {
   "cell_type": "code",
   "execution_count": 6,
   "metadata": {},
   "outputs": [],
   "source": [
    "def task_c_loss_gradient_without_query(X, y, D):\n",
    "    A = X @ D\n",
    "    ATA = A.T @ A\n",
    "    ATA_inv = np.linalg.inv(ATA)\n",
    "    XTy = X.T @ y\n",
    "    DTXTy = D.T @ XTy\n",
    "    c_solved = ATA_inv @ DTXTy\n",
    "    loss = np.sum(np.square(y)) - np.inner(DTXTy, c_solved)\n",
    "    gradient = -2 * np.outer(XTy, c_solved)+ 2 * np.outer((X.T @ (A @ c_solved)), c_solved.T)\n",
    "    return c_solved, loss, gradient"
   ]
  },
  {
   "cell_type": "code",
   "execution_count": 7,
   "metadata": {},
   "outputs": [
    {
     "name": "stderr",
     "output_type": "stream",
     "text": [
      "100%|██████████| 50000/50000 [00:30<00:00, 1629.58it/s]\n"
     ]
    }
   ],
   "source": [
    "D = np.random.randn(d, k) # init\n",
    "D_true = np.random.randn(d, k)\n",
    "alpha = 0.1\n",
    "num_iterations = 50000\n",
    "losses = []\n",
    "avg_train_loss = []\n",
    "sum_train_loss = 0.0\n",
    "avg_test_loss = []\n",
    "\n",
    "for iteration in tqdm(range(num_iterations)):\n",
    "    X = X_pool[np.random.choice(len(X_pool))]\n",
    "    c = c_pool[np.random.choice(len(c_pool))]\n",
    "    y = y_sample(D=D_true, c=c, X=X)\n",
    "    c_solved, loss, gradient = task_c_loss_gradient_without_query(X, y, D)\n",
    "    losses.append(loss)\n",
    "    D = D - alpha * gradient # update the loss\n",
    "    sum_train_loss += loss\n",
    "    avg_train_loss.append(sum_train_loss / (iteration + 1))\n",
    "    \n",
    "    if iteration % 1000 == 0: # test evaluation\n",
    "        sum_test_loss = 0.0\n",
    "        for i in range(2000):\n",
    "            X = X_sample(n=n, d=d, distribution_sample=uniform_hypersphere)\n",
    "            c = c_sample(k, distribution_sample=uniform_hypersphere)\n",
    "            y = y_sample(D=D_true, c=c, X=X)\n",
    "            c_solved, loss, gradient = task_c_loss_gradient_without_query(X, y, D)\n",
    "            sum_test_loss += loss\n",
    "        avg_test_loss.append(sum_test_loss / 1000)\n",
    "        \n"
   ]
  },
  {
   "cell_type": "code",
   "execution_count": 8,
   "metadata": {},
   "outputs": [
    {
     "data": {
      "text/plain": [
       "[<matplotlib.lines.Line2D at 0x7f5cdf615390>]"
      ]
     },
     "execution_count": 8,
     "metadata": {},
     "output_type": "execute_result"
    },
    {
     "data": {
      "image/png": "[encoded data removed]",
      "text/plain": [
       "<Figure size 432x288 with 1 Axes>"
      ]
     },
     "metadata": {
      "needs_background": "light"
     },
     "output_type": "display_data"
    }
   ],
   "source": [
    "plt.plot(list(range(num_iterations)), avg_train_loss)"
   ]
  },
  {
   "cell_type": "code",
   "execution_count": 9,
   "metadata": {},
   "outputs": [
    {
     "data": {
      "text/plain": [
       "[<matplotlib.lines.Line2D at 0x7f5cddad23d0>]"
      ]
     },
     "execution_count": 9,
     "metadata": {},
     "output_type": "execute_result"
    },
    {
     "data": {
      "image/png": "[encoded data removed]",
      "text/plain": [
       "<Figure size 432x288 with 1 Axes>"
      ]
     },
     "metadata": {
      "needs_background": "light"
     },
     "output_type": "display_data"
    }
   ],
   "source": [
    "plt.plot(list(range(len(avg_test_loss))), avg_test_loss)"
   ]
  }
 ],
 "metadata": {
  "kernelspec": {
   "display_name": "Python 3",
   "language": "python",
   "name": "python3"
  },
  "language_info": {
   "codemirror_mode": {
    "name": "ipython",
    "version": 3
   },
   "file_extension": ".py",
   "mimetype": "text/x-python",
   "name": "python",
   "nbconvert_exporter": "python",
   "pygments_lexer": "ipython3",
   "version": "3.7.6"
  }
 },
 "nbformat": 4,
 "nbformat_minor": 4
}

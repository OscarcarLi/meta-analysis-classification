{
 "cells": [
  {
   "cell_type": "code",
   "execution_count": 1,
   "metadata": {},
   "outputs": [],
   "source": [
    "import pandas as pd\n",
    "import numpy as np\n",
    "from collections import defaultdict\n",
    "import tqdm\n",
    "import random\n",
    "import glob\n",
    "import json"
   ]
  },
  {
   "cell_type": "code",
   "execution_count": 2,
   "metadata": {},
   "outputs": [],
   "source": [
    "RANDOM_SEED=42\n",
    "random.seed(RANDOM_SEED)\n",
    "np.random.seed(RANDOM_SEED)"
   ]
  },
  {
   "cell_type": "code",
   "execution_count": 3,
   "metadata": {},
   "outputs": [],
   "source": [
    "ZAPPOS_ROOT = '/home/amrith/zappos-50k/'\n",
    "ZAPPOS_IMAGES_ROOT = '/home/amrith/zappos-50k/ut-zap50k-images-square'"
   ]
  },
  {
   "cell_type": "code",
   "execution_count": 4,
   "metadata": {},
   "outputs": [],
   "source": [
    "df = pd.read_csv(f'{ZAPPOS_ROOT}/ut-zap50k-data/meta-data-bin.csv')\n",
    "df['HeelHeight.High.heel'] = df['HeelHeight.4in...4.3.4in'] + df['HeelHeight.5in...over']\n",
    "df['HeelHeight.Short.heel'] = df['HeelHeight.Flat'] + df['HeelHeight.Under.1in'] + df['HeelHeight.1in...1.3.4in']"
   ]
  },
  {
   "cell_type": "code",
   "execution_count": 5,
   "metadata": {},
   "outputs": [
    {
     "data": {
      "text/plain": [
       "(50025, 154)"
      ]
     },
     "execution_count": 5,
     "metadata": {},
     "output_type": "execute_result"
    }
   ],
   "source": [
    "df.shape"
   ]
  },
  {
   "cell_type": "code",
   "execution_count": 6,
   "metadata": {},
   "outputs": [
    {
     "name": "stdout",
     "output_type": "stream",
     "text": [
      "['CID', 'Category.Boots', 'Category.Sandals', 'Category.Shoes', 'Category.Slippers', 'Closure.Adjustable', 'Closure.Ankle.Strap', 'Closure.Ankle.Wrap', 'Closure.Belt', 'Closure.Buckle', 'Closure.Bungee', 'Closure.Button.Loop', 'Closure.Elastic.Gore', 'Closure.Hook.and.Loop', 'Closure.Lace.up', 'Closure.Monk.Strap', 'Closure.Pull.on', 'Closure.Sling.Back', 'Closure.Slip.On', 'Closure.Snap', 'Closure.Spat.Strap', 'Closure.T.Strap', 'Closure.Toggle', 'Closure.Zipper', 'Gender.Boys', 'Gender.Girls', 'Gender.Men', 'Gender.Women', 'HeelHeight.1in...1.3.4in', 'HeelHeight.2in...2.3.4in', 'HeelHeight.3in...3.3.4in', 'HeelHeight.4in...4.3.4in', 'HeelHeight.5in...over', 'HeelHeight.Flat', 'HeelHeight.High.heel', 'HeelHeight.Short.heel', 'HeelHeight.Under.1in', 'Insole.EVA', 'Insole.Gel', 'Insole.Hypoallergenic', 'Insole.Latex.Lined', 'Insole.Leather', 'Insole.Memory.Foam', 'Insole.Moisture.Wicking', 'Insole.Orthotic.Friendly', 'Insole.Padded', 'Insole.Polyurethane', 'Insole.Poron', 'Insole.Removable', 'Insole.Synthetic.Leather', 'Insole.Textile', 'Material.Acrylic', 'Material.Aluminum', 'Material.Cable.Knit', 'Material.Canvas', 'Material.Cashmere', 'Material.Chiffon', 'Material.Cordura', 'Material.Corduroy', 'Material.Cork', 'Material.Cotton', 'Material.Crochet', 'Material.Crocodile', 'Material.Deerskin', 'Material.Denim', 'Material.Distressed.Leather', 'Material.EVA', 'Material.Exotic', 'Material.Faux.Fur', 'Material.Faux.Leather', 'Material.Faux.Suede', 'Material.Felt', 'Material.Fleece', 'Material.Full.grain.leather', 'Material.Hair.Calf', 'Material.Hemp', 'Material.Horse.Hair', 'Material.Jacquard', 'Material.Jute', 'Material.Lace', 'Material.Lambskin', 'Material.Latex', 'Material.Leather', 'Material.Linen', 'Material.Lizard', 'Material.Mesh', 'Material.Microfiber', 'Material.Nappa', 'Material.Neoprene', 'Material.Nubuck', 'Material.Nylon', 'Material.Ostrich', 'Material.Patent.Leather', 'Material.Plastic', 'Material.Polyester', 'Material.Polyurethane', 'Material.Raffia', 'Material.Ripstop', 'Material.Rubber', 'Material.Satin', 'Material.Shearling', 'Material.Sheepskin', 'Material.Silk', 'Material.Snakeskin', 'Material.Steel', 'Material.Stingray', 'Material.Suede', 'Material.Synthetic', 'Material.Terry', 'Material.Tweed', 'Material.Velour', 'Material.Velvet', 'Material.Vinyl', 'Material.Wool', 'SubCategory.Ankle', 'SubCategory.Athletic', 'SubCategory.Boat.Shoes', 'SubCategory.Boot', 'SubCategory.Clogs.and.Mules', 'SubCategory.Crib.Shoes', 'SubCategory.Firstwalker', 'SubCategory.Flat', 'SubCategory.Flats', 'SubCategory.Heel', 'SubCategory.Heels', 'SubCategory.Knee.High', 'SubCategory.Loafers', 'SubCategory.Mid.Calf', 'SubCategory.Over.the.Knee', 'SubCategory.Oxfords', 'SubCategory.Prewalker', 'SubCategory.Prewalker.Boots', 'SubCategory.Slipper.Flats', 'SubCategory.Slipper.Heels', 'SubCategory.Sneakers.and.Athletic.Shoes', 'ToeStyle.Algonquin', 'ToeStyle.Almond', 'ToeStyle.Apron Toe', 'ToeStyle.Bicycle Toe', 'ToeStyle.Bump Toe', 'ToeStyle.Capped Toe', 'ToeStyle.Center Seam', 'ToeStyle.Closed Toe', 'ToeStyle.Medallion', 'ToeStyle.Moc Toe', 'ToeStyle.Open Toe', 'ToeStyle.Peep Toe', 'ToeStyle.Pointed Toe', 'ToeStyle.Round Toe', 'ToeStyle.Snip Toe', 'ToeStyle.Snub Toe', 'ToeStyle.Square Toe', 'ToeStyle.Wide Toe Box', 'ToeStyle.Wingtip']\n"
     ]
    }
   ],
   "source": [
    "print(sorted(df.columns))"
   ]
  },
  {
   "cell_type": "code",
   "execution_count": 7,
   "metadata": {},
   "outputs": [
    {
     "name": "stdout",
     "output_type": "stream",
     "text": [
      "78\n"
     ]
    }
   ],
   "source": [
    "# Attribute list\n",
    "ATTR_LIST_1 = ['Category.Shoes', 'Category.Sandals', 'SubCategory.Oxfords', 'SubCategory.Heel', 'SubCategory.Boot', 'SubCategory.Slipper.Flats', 'SubCategory.Flats', 'SubCategory.Slipper.Heels', 'SubCategory.Athletic', 'SubCategory.Knee.High', 'SubCategory.Crib.Shoes', 'SubCategory.Over.the.Knee', 'HeelHeight.High.heel', 'HeelHeight.Short.heel', 'Closure.Pull.on', 'Closure.Ankle.Strap', 'Closure.Zipper', 'Closure.Elastic.Gore', 'Closure.Sling.Back', 'Closure.Toggle', 'Closure.Snap', 'Closure.T.Strap', 'Closure.Spat.Strap', 'Gender.Men', 'Gender.Boys', 'Material.Rubber', 'Material.Wool', 'Material.Silk', 'Material.Aluminum', 'Material.Plastic', 'ToeStyle.Capped Toe', 'ToeStyle.Square Toe', 'ToeStyle.Snub Toe', 'ToeStyle.Bicycle Toe', 'ToeStyle.Open Toe', 'ToeStyle.Pointed Toe', 'ToeStyle.Almond', 'ToeStyle.Apron Toe', 'ToeStyle.Snip Toe', 'ToeStyle.Medallion']\n",
    "ATTR_LIST_2 = ['Category.Boots', 'Category.Slippers', 'SubCategory.Mid.Calf', 'SubCategory.Ankle', 'SubCategory.Loafers', 'SubCategory.Boat.Shoes', 'SubCategory.Clogs.and.Mules', 'SubCategory.Sneakers.and.Athletic.Shoes', 'SubCategory.Heels', 'SubCategory.Prewalker', 'SubCategory.Prewalker.Boots', 'SubCategory.Firstwalker', 'Closure.Lace.up', 'Closure.Buckle', 'Closure.Hook.and.Loop', 'Closure.Slip.On', 'Closure.Ankle.Wrap', 'Closure.Bungee', 'Closure.Adjustable',  'Closure.Button.Loop', 'Closure.Monk.Strap', 'Closure.Belt', 'Gender.Women', 'Gender.Girls', 'Material.Suede', 'Material.Snakeskin', 'Material.Corduroy', 'Material.Horse.Hair', 'Material.Stingray', 'ToeStyle.Round Toe', 'ToeStyle.Closed Toe', 'ToeStyle.Moc Toe', 'ToeStyle.Wingtip', 'ToeStyle.Center Seam', 'ToeStyle.Algonquin', 'ToeStyle.Bump Toe', 'ToeStyle.Wide Toe Box', 'ToeStyle.Peep Toe']\n",
    "FULL_ATTR_LIST = sorted(list(set(ATTR_LIST_1 + ATTR_LIST_2)))\n",
    "for x in FULL_ATTR_LIST:\n",
    "    if x not in df.columns: \n",
    "        print(x)\n",
    "print(len(FULL_ATTR_LIST))"
   ]
  },
  {
   "cell_type": "code",
   "execution_count": 8,
   "metadata": {},
   "outputs": [
    {
     "name": "stdout",
     "output_type": "stream",
     "text": [
      "38\n"
     ]
    }
   ],
   "source": [
    "ATTR_LIST = []\n",
    "MIN_IMAGES_PER_ATTR = 1000\n",
    "for a, x in zip(FULL_ATTR_LIST, df.loc[:, FULL_ATTR_LIST].apply(sum, axis=0)):\n",
    "    if x > MIN_IMAGES_PER_ATTR:\n",
    "        ATTR_LIST.append(a)\n",
    "print(len(ATTR_LIST))"
   ]
  },
  {
   "cell_type": "code",
   "execution_count": 9,
   "metadata": {},
   "outputs": [
    {
     "data": {
      "text/plain": [
       "['Category.Boots',\n",
       " 'Category.Sandals',\n",
       " 'Category.Shoes',\n",
       " 'Category.Slippers',\n",
       " 'Closure.Ankle.Strap',\n",
       " 'Closure.Buckle',\n",
       " 'Closure.Elastic.Gore',\n",
       " 'Closure.Hook.and.Loop',\n",
       " 'Closure.Lace.up',\n",
       " 'Closure.Pull.on',\n",
       " 'Closure.Slip.On',\n",
       " 'Closure.Zipper',\n",
       " 'Gender.Boys',\n",
       " 'Gender.Girls',\n",
       " 'Gender.Men',\n",
       " 'Gender.Women',\n",
       " 'HeelHeight.High.heel',\n",
       " 'HeelHeight.Short.heel',\n",
       " 'Material.Rubber',\n",
       " 'Material.Suede',\n",
       " 'SubCategory.Ankle',\n",
       " 'SubCategory.Clogs.and.Mules',\n",
       " 'SubCategory.Flats',\n",
       " 'SubCategory.Heels',\n",
       " 'SubCategory.Knee.High',\n",
       " 'SubCategory.Loafers',\n",
       " 'SubCategory.Mid.Calf',\n",
       " 'SubCategory.Oxfords',\n",
       " 'SubCategory.Slipper.Flats',\n",
       " 'SubCategory.Sneakers.and.Athletic.Shoes',\n",
       " 'ToeStyle.Almond',\n",
       " 'ToeStyle.Capped Toe',\n",
       " 'ToeStyle.Closed Toe',\n",
       " 'ToeStyle.Moc Toe',\n",
       " 'ToeStyle.Open Toe',\n",
       " 'ToeStyle.Peep Toe',\n",
       " 'ToeStyle.Pointed Toe',\n",
       " 'ToeStyle.Round Toe']"
      ]
     },
     "execution_count": 9,
     "metadata": {},
     "output_type": "execute_result"
    }
   ],
   "source": [
    "ATTR_LIST"
   ]
  },
  {
   "cell_type": "markdown",
   "metadata": {},
   "source": [
    "1. logic to sample attribute list\n",
    "2. logic to check if attributes are from same category\n",
    "3. logic to sample images that are positive for the attribute pair"
   ]
  },
  {
   "cell_type": "code",
   "execution_count": 10,
   "metadata": {},
   "outputs": [],
   "source": [
    "def is_same_category(attr_pair):\n",
    "    return len(set([attr.lower().split(\".\")[0] for attr in attrs])) < len(attr_pair)\n",
    "    \n",
    "def sample_attrs(attributes_list, n_attrs=2):\n",
    "    return np.random.choice(attributes_list, n_attrs, replace=False)\n",
    "\n",
    "def get_all_positive_images(df, attrs):\n",
    "    return df[attrs].apply(sum, axis=1) == len(attrs)\n",
    "\n",
    "def get_all_negative_images(df, attrs):\n",
    "    return (1-df[attrs]).apply(sum, axis=1) == len(attrs)\n",
    "\n",
    "def sample_images(df, selected_images, n_samples):\n",
    "    return list(np.random.choice(df[selected_images][\"CID\"].values, n_samples, replace=False))"
   ]
  },
  {
   "cell_type": "code",
   "execution_count": 11,
   "metadata": {},
   "outputs": [],
   "source": [
    "N_SAMPLES = 3000\n",
    "POSITIVE_IMAGES_THRESHOLD = 20\n",
    "NEGATIVE_IMAGES_THRESHOLD = 20\n",
    "N_SUPPORT = 10\n",
    "N_QUERY = 10"
   ]
  },
  {
   "cell_type": "code",
   "execution_count": 12,
   "metadata": {},
   "outputs": [],
   "source": [
    "CID_to_impath = {x.split(\"/\")[-1][:-4].replace(\".\", \"-\"):x for x in glob.glob(f\"{ZAPPOS_IMAGES_ROOT}/**/*.jpg\", recursive=True)}"
   ]
  },
  {
   "cell_type": "code",
   "execution_count": 13,
   "metadata": {},
   "outputs": [
    {
     "name": "stdout",
     "output_type": "stream",
     "text": [
      "['ToeStyle.Moc Toe' 'ToeStyle.Pointed Toe']\n",
      "['Gender.Women' 'SubCategory.Clogs.and.Mules']\n",
      "Selected 1/2 Time Elapsed 1.3927528858184814\n",
      "['Material.Suede' 'ToeStyle.Open Toe']\n",
      "Selected 2/3 Time Elapsed 2.742994546890259\n",
      "['ToeStyle.Open Toe' 'Closure.Zipper']\n",
      "Selected 3/4 Time Elapsed 4.169025897979736\n",
      "['Closure.Lace.up' 'Gender.Women']\n",
      "Selected 4/5 Time Elapsed 5.580397605895996\n",
      "['Category.Sandals' 'SubCategory.Mid.Calf']\n",
      "['Category.Boots' 'SubCategory.Heels']\n",
      "['SubCategory.Sneakers.and.Athletic.Shoes' 'ToeStyle.Open Toe']\n",
      "['SubCategory.Loafers' 'ToeStyle.Moc Toe']\n",
      "Selected 5/9 Time Elapsed 11.17026424407959\n",
      "['ToeStyle.Round Toe' 'ToeStyle.Closed Toe']\n",
      "['Gender.Men' 'Material.Rubber']\n",
      "Selected 6/11 Time Elapsed 12.544588327407837\n",
      "['ToeStyle.Capped Toe' 'SubCategory.Loafers']\n",
      "Selected 7/12 Time Elapsed 13.944138765335083\n",
      "['SubCategory.Flats' 'SubCategory.Clogs.and.Mules']\n",
      "['Closure.Elastic.Gore' 'Category.Sandals']\n",
      "Selected 8/14 Time Elapsed 15.352347373962402\n",
      "['SubCategory.Flats' 'ToeStyle.Moc Toe']\n",
      "Selected 9/15 Time Elapsed 16.736342191696167\n",
      "['Gender.Women' 'SubCategory.Slipper.Flats']\n",
      "Selected 10/16 Time Elapsed 18.170182943344116\n",
      "['SubCategory.Loafers' 'Closure.Buckle']\n",
      "Selected 11/17 Time Elapsed 19.563738346099854\n",
      "['SubCategory.Slipper.Flats' 'SubCategory.Heels']\n",
      "['SubCategory.Knee.High' 'Closure.Elastic.Gore']\n",
      "Selected 12/19 Time Elapsed 20.93346071243286\n",
      "['Closure.Elastic.Gore' 'Material.Suede']\n",
      "Selected 13/20 Time Elapsed 22.28285002708435\n",
      "['Closure.Ankle.Strap' 'ToeStyle.Round Toe']\n",
      "Selected 14/21 Time Elapsed 23.649391889572144\n",
      "['SubCategory.Mid.Calf' 'HeelHeight.Short.heel']\n",
      "Selected 15/22 Time Elapsed 25.04531764984131\n"
     ]
    }
   ],
   "source": [
    "# main logic for sampling\n",
    "n_selected = 0\n",
    "dataset = defaultdict(lambda: defaultdict(lambda: defaultdict(list)))\n",
    "counter = 0\n",
    "import time\n",
    "st = time.time()\n",
    "while n_selected < N_SAMPLES:\n",
    "    counter += 1\n",
    "    # get attributes\n",
    "    attrs = sample_attrs(ATTR_LIST)\n",
    "    print(attrs)\n",
    "    # if any pair of the sampled attributes are from the same category then reject\n",
    "    if is_same_category(attrs):\n",
    "        # print(\"Dropped -- same category\", attrs)\n",
    "        continue\n",
    "    # get images which satisfy the attributes\n",
    "    positive_images = get_all_positive_images(df, attrs)\n",
    "    negative_images = get_all_negative_images(df, attrs)\n",
    "    # negative_images = 1 - positive_images\n",
    "    # if we want to enforce 0s for all attributes then we need to change the logic above\n",
    "    # to include get_all_negative_images(df, attrs)\n",
    "    \n",
    "    # if the no of images that are positive for the chosen attributes is too less, then reject \n",
    "    if (sum(positive_images) < POSITIVE_IMAGES_THRESHOLD) or (sum(negative_images) < NEGATIVE_IMAGES_THRESHOLD) :\n",
    "        # print(\"Dropped -- didnt meet threshold\", attrs)\n",
    "        continue\n",
    "    \n",
    "    positive = [CID_to_impath[z] for z in sample_images(df, positive_images, N_SUPPORT+N_QUERY)]\n",
    "    negative = [CID_to_impath[z] for z in sample_images(df, negative_images, N_SUPPORT+N_QUERY)]\n",
    "    \n",
    "    dataset[n_selected][0]['support'] = negative[:N_SUPPORT]\n",
    "    dataset[n_selected][0]['query'] = negative[N_SUPPORT:]\n",
    "    \n",
    "    dataset[n_selected][1]['support'] = positive[:N_SUPPORT]\n",
    "    dataset[n_selected][1]['query'] = positive[N_SUPPORT:]\n",
    "    \n",
    "    dataset[n_selected][0]['attributes'] = \";\".join([\"!\"+a for a in attrs])\n",
    "    dataset[n_selected][1]['attributes'] = \";\".join(attrs)\n",
    "    \n",
    "    \n",
    "    n_selected += 1\n",
    "    print(f'Selected {n_selected}/{counter} Time Elapsed {time.time()-st}')\n",
    "        "
   ]
  },
  {
   "cell_type": "code",
   "execution_count": 14,
   "metadata": {},
   "outputs": [],
   "source": [
    "json.dump(dataset, open(f'zappos-minImg{MIN_IMAGES_PER_ATTR}-nsamp{N_SAMPLES}-ns{N_SUPPORT}-nq{N_QUERY}.json', 'w'))"
   ]
  }
 ],
 "metadata": {
  "kernelspec": {
   "display_name": "Python [conda env:root] *",
   "language": "python",
   "name": "conda-root-py"
  },
  "language_info": {
   "codemirror_mode": {
    "name": "ipython",
    "version": 3
   },
   "file_extension": ".py",
   "mimetype": "text/x-python",
   "name": "python",
   "nbconvert_exporter": "python",
   "pygments_lexer": "ipython3",
   "version": "3.7.4"
  }
 },
 "nbformat": 4,
 "nbformat_minor": 4
}

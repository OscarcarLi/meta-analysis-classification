{
 "cells": [
  {
   "cell_type": "code",
   "execution_count": null,
   "metadata": {},
   "outputs": [],
   "source": [
    "import pandas as pd\n",
    "import numpy as np\n",
    "from collections import defaultdict\n",
    "from tqdm.notebook import tqdm\n",
    "import random\n",
    "import glob\n",
    "import json"
   ]
  },
  {
   "cell_type": "code",
   "execution_count": null,
   "metadata": {},
   "outputs": [],
   "source": [
    "RANDOM_SEED=100 # different random seed for all-negative so that we pick diff attribute pairs.\n",
    "random.seed(RANDOM_SEED)\n",
    "np.random.seed(RANDOM_SEED)"
   ]
  },
  {
   "cell_type": "code",
   "execution_count": null,
   "metadata": {},
   "outputs": [],
   "source": [
    "ZAPPOS_ROOT = 'zappos'\n",
    "ZAPPOS_IMAGES_ROOT = 'ut-zap50k-images-square'"
   ]
  },
  {
   "cell_type": "code",
   "execution_count": null,
   "metadata": {},
   "outputs": [],
   "source": [
    "df = pd.read_csv(f'{ZAPPOS_ROOT}/ut-zap50k-data/meta-data-bin.csv')\n",
    "df['HeelHeight.High.heel'] = df['HeelHeight.4in...4.3.4in'] + df['HeelHeight.5in...over']\n",
    "df['HeelHeight.Short.heel'] = df['HeelHeight.Flat'] + df['HeelHeight.Under.1in'] + df['HeelHeight.1in...1.3.4in']"
   ]
  },
  {
   "cell_type": "code",
   "execution_count": null,
   "metadata": {},
   "outputs": [],
   "source": [
    "df.shape"
   ]
  },
  {
   "cell_type": "code",
   "execution_count": null,
   "metadata": {},
   "outputs": [],
   "source": [
    "print(sorted(df.columns))"
   ]
  },
  {
   "cell_type": "code",
   "execution_count": null,
   "metadata": {},
   "outputs": [],
   "source": [
    "# Attribute list\n",
    "import json\n",
    "partition = json.load(open('zappos_attributes_ID_OOD_partition.json', 'r'))\n",
    "ID_ATTR = partition['ID']\n",
    "OOD_ATTR = partition['OOD']\n",
    "print(len(ID_ATTR))\n",
    "print(len(OOD_ATTR))"
   ]
  },
  {
   "cell_type": "markdown",
   "metadata": {},
   "source": [
    "1. logic to sample attribute list\n",
    "2. logic to check if attributes are from same category\n",
    "3. logic to sample images that are positive for the attribute pair"
   ]
  },
  {
   "cell_type": "code",
   "execution_count": null,
   "metadata": {},
   "outputs": [],
   "source": [
    "def is_same_category(attrs):\n",
    "    return len(set([attr.lower().split(\".\")[0] for attr in attrs])) < len(attrs)\n",
    "    \n",
    "def sample_attrs(attributes_list, n_attrs=2):\n",
    "    return np.random.choice(attributes_list, n_attrs, replace=False)\n",
    "\n",
    "def get_all_positive_images(df, attrs):\n",
    "    return df[attrs].apply(sum, axis=1) == len(attrs)\n",
    "\n",
    "def get_all_negative_images(df, attrs):\n",
    "    return (1-df[attrs]).apply(sum, axis=1) == len(attrs)\n",
    "\n",
    "def sample_images(df, selected_images, n_samples):\n",
    "    return list(np.random.choice(df[selected_images][\"CID\"].values, n_samples, replace=False))"
   ]
  },
  {
   "cell_type": "code",
   "execution_count": null,
   "metadata": {},
   "outputs": [],
   "source": [
    "CID_to_impath = {x.split(\"/\")[-1][:-4].replace(\".\", \"-\"):x for x in glob.glob(f\"{ZAPPOS_IMAGES_ROOT}/**/*.jpg\", recursive=True)}"
   ]
  },
  {
   "cell_type": "code",
   "execution_count": null,
   "metadata": {},
   "outputs": [],
   "source": [
    "def sample_dataset(\n",
    "        ATTR_LIST, N_SAMPLES, \n",
    "        POSITIVE_IMAGES_THRESHOLD, NEGATIVE_IMAGES_THRESHOLD,\n",
    "        N_SUPPORT, N_QUERY,\n",
    "        verbose=False):\n",
    "    \n",
    "    # main logic for sampling\n",
    "    n_selected = 0\n",
    "    dataset = defaultdict(lambda: defaultdict(lambda: defaultdict(list)))\n",
    "    counter = 0\n",
    "    import time\n",
    "    st = time.time()\n",
    "    p_bar = tqdm(total=N_SAMPLES, initial=1)\n",
    "    while n_selected < N_SAMPLES:\n",
    "        counter += 1\n",
    "        # get attributes\n",
    "        attrs = sample_attrs(ATTR_LIST)\n",
    "        if verbose:\n",
    "            tqdm.write(attrs)\n",
    "        # if any pair of the sampled attributes are from the same category then reject\n",
    "        if is_same_category(attrs):\n",
    "            # print(\"Dropped -- same category\", attrs)\n",
    "            continue\n",
    "        # get images which satisfy the attributes\n",
    "        positive_images = get_all_positive_images(df, attrs)\n",
    "        negative_images = positive_images.apply(lambda x: not x)\n",
    "        assert all([(x != y) for x,y in zip(positive_images, negative_images)])\n",
    "        # if we want to enforce 0s for all attributes then we need to change the logic above\n",
    "        # to include get_all_negative_images(df, attrs)\n",
    "\n",
    "        # if the no of images that are positive for the chosen attributes is too less, then reject \n",
    "        if (sum(positive_images) < POSITIVE_IMAGES_THRESHOLD) or (sum(negative_images) < NEGATIVE_IMAGES_THRESHOLD) :\n",
    "            # print(\"Dropped -- didnt meet threshold\", attrs)\n",
    "            continue\n",
    "\n",
    "        positive = [CID_to_impath[z] for z in sample_images(df, positive_images, N_SUPPORT+N_QUERY)]\n",
    "        negative = [CID_to_impath[z] for z in sample_images(df, negative_images, N_SUPPORT+N_QUERY)]\n",
    "\n",
    "        dataset[n_selected][0]['support'] = negative[:N_SUPPORT]\n",
    "        dataset[n_selected][0]['query'] = negative[N_SUPPORT:]\n",
    "\n",
    "        dataset[n_selected][1]['support'] = positive[:N_SUPPORT]\n",
    "        dataset[n_selected][1]['query'] = positive[N_SUPPORT:]\n",
    "\n",
    "        dataset[n_selected][0]['attributes'] = \"!(\" + \";\".join([a for a in attrs]) + \")\"\n",
    "        dataset[n_selected][1]['attributes'] = \";\".join(attrs)\n",
    "\n",
    "\n",
    "        n_selected += 1\n",
    "        p_bar.update(1)\n",
    "        if verbose:\n",
    "            tqdm.write(f'Selected {n_selected}/{counter} Time Elapsed {time.time()-st}')\n",
    "    \n",
    "    p_bar.close()\n",
    "    return dataset\n",
    "        \n",
    "        \n",
    "        "
   ]
  },
  {
   "cell_type": "code",
   "execution_count": null,
   "metadata": {},
   "outputs": [],
   "source": [
    "POSITIVE_IMAGES_THRESHOLD = 20\n",
    "NEGATIVE_IMAGES_THRESHOLD = 20\n",
    "N_SUPPORT = 10\n",
    "N_QUERY = 10\n",
    "N_SAMPLES_ID = 11000 # (1000 ID TRAIN, 5000/5000: ID VAL/TEST)\n",
    "N_SAMPLES_OOD = 20000 # (5000/5000: OD VAL/TEST)"
   ]
  },
  {
   "cell_type": "code",
   "execution_count": null,
   "metadata": {},
   "outputs": [],
   "source": [
    "print(\"--\"*10, \"ID\", \"--\"*10)\n",
    "ID_dataset = sample_dataset(\n",
    "    ID_ATTR,\n",
    "    N_SAMPLES = N_SAMPLES_ID,\n",
    "    POSITIVE_IMAGES_THRESHOLD = POSITIVE_IMAGES_THRESHOLD,\n",
    "    NEGATIVE_IMAGES_THRESHOLD = NEGATIVE_IMAGES_THRESHOLD,\n",
    "    N_SUPPORT = N_SUPPORT,\n",
    "    N_QUERY = N_QUERY)"
   ]
  },
  {
   "cell_type": "code",
   "execution_count": null,
   "metadata": {},
   "outputs": [],
   "source": [
    "json.dump(ID_dataset, \n",
    "          open(f'zappos-ID-alltrue_vs_anyfalse-nsamp{N_SAMPLES_ID}-ns{N_SUPPORT}-nq{N_QUERY}.json', 'w'))"
   ]
  },
  {
   "cell_type": "code",
   "execution_count": null,
   "metadata": {},
   "outputs": [],
   "source": [
    "print(\"--\"*10, \"OOD\", \"--\"*10)\n",
    "OOD_dataset = sample_dataset(\n",
    "    OOD_ATTR,\n",
    "    N_SAMPLES = N_SAMPLES_OOD,\n",
    "    POSITIVE_IMAGES_THRESHOLD = POSITIVE_IMAGES_THRESHOLD,\n",
    "    NEGATIVE_IMAGES_THRESHOLD = NEGATIVE_IMAGES_THRESHOLD,\n",
    "    N_SUPPORT = N_SUPPORT,\n",
    "    N_QUERY = N_QUERY)"
   ]
  },
  {
   "cell_type": "code",
   "execution_count": null,
   "metadata": {},
   "outputs": [],
   "source": [
    "json.dump(OOD_dataset, \n",
    "          open(f'zappos-OOD-alltrue_vs_anyfalse-nsamp{N_SAMPLES_OOD}-ns{N_SUPPORT}-nq{N_QUERY}.json', 'w'))"
   ]
  }
 ],
 "metadata": {
  "kernelspec": {
   "display_name": "Python 3",
   "language": "python",
   "name": "python3"
  },
  "language_info": {
   "codemirror_mode": {
    "name": "ipython",
    "version": 3
   },
   "file_extension": ".py",
   "mimetype": "text/x-python",
   "name": "python",
   "nbconvert_exporter": "python",
   "pygments_lexer": "ipython3",
   "version": "3.7.4"
  }
 },
 "nbformat": 4,
 "nbformat_minor": 4
}

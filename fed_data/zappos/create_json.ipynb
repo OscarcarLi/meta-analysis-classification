{
 "cells": [
  {
   "cell_type": "code",
   "execution_count": 1,
   "metadata": {},
   "outputs": [],
   "source": [
    "import os\n",
    "import json"
   ]
  },
  {
   "cell_type": "code",
   "execution_count": 2,
   "metadata": {},
   "outputs": [],
   "source": [
    "json_name = 'zappos-minImg1000-alltrue_vs_allfalse-nsamp8000-ns10-nq10'\n",
    "ZAPPOS_ROOT = '/home/oscarli/projects/meta-analysis-classification/fed_data/zappos/'"
   ]
  },
  {
   "cell_type": "code",
   "execution_count": 3,
   "metadata": {},
   "outputs": [],
   "source": [
    "json_object = json.load(open(json_name + '.json', 'r'))"
   ]
  },
  {
   "cell_type": "code",
   "execution_count": 4,
   "metadata": {},
   "outputs": [],
   "source": [
    "train_task_id = [str(x) for x in list(range(1000))]\n",
    "val_task_id = [str(x) for x in list(range(1000, 2000))]\n",
    "test_task_id = [str(x) for x in list(range(2000, 3000))]"
   ]
  },
  {
   "cell_type": "code",
   "execution_count": 5,
   "metadata": {},
   "outputs": [],
   "source": [
    "json_folder = os.path.join(ZAPPOS_ROOT, json_name + f'-tr{len(train_task_id)}val{len(val_task_id)}test{len(test_task_id)}')\n",
    "if not os.path.exists(json_folder):\n",
    "    os.mkdir(json_folder)\n",
    "    \n",
    "with open(os.path.join(json_folder, 'base.json'), 'w') as file:\n",
    "    json.dump({key: value for key, value in json_object.items() if key in train_task_id},\n",
    "              file)\n",
    "\n",
    "with open(os.path.join(json_folder, 'val.json'), 'w') as file:\n",
    "    json.dump({key: value for key, value in json_object.items() if key in val_task_id},\n",
    "              file)\n",
    "    \n",
    "with open(os.path.join(json_folder, 'novel.json'), 'w') as file:\n",
    "    json.dump({key: value for key, value in json_object.items() if key in test_task_id},\n",
    "              file)"
   ]
  },
  {
   "cell_type": "code",
   "execution_count": null,
   "metadata": {},
   "outputs": [],
   "source": []
  }
 ],
 "metadata": {
  "kernelspec": {
   "display_name": "Python 3",
   "language": "python",
   "name": "python3"
  },
  "language_info": {
   "codemirror_mode": {
    "name": "ipython",
    "version": 3
   },
   "file_extension": ".py",
   "mimetype": "text/x-python",
   "name": "python",
   "nbconvert_exporter": "python",
   "pygments_lexer": "ipython3",
   "version": "3.7.6"
  }
 },
 "nbformat": 4,
 "nbformat_minor": 5
}

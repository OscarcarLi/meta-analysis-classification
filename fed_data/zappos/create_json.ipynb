{
 "cells": [
  {
   "cell_type": "code",
   "execution_count": 1,
   "id": "70dec1e5",
   "metadata": {},
   "outputs": [],
   "source": [
    "import os\n",
    "import json"
   ]
  },
  {
   "cell_type": "code",
   "execution_count": 2,
   "id": "1bbb9242",
   "metadata": {},
   "outputs": [],
   "source": [
    "json_name = 'zappos-minImg1000-alltrue_vs_allfalse-nsamp8000-ns10-nq10'\n",
    "ZAPPOS_ROOT = '/home/oscarli/projects/meta-analysis-classification/fed_data/zappos/'"
   ]
  },
  {
   "cell_type": "code",
   "execution_count": 3,
   "id": "b2028337",
   "metadata": {},
   "outputs": [],
   "source": [
    "json_object = json.load(open(json_name + '.json', 'r'))"
   ]
  },
  {
   "cell_type": "code",
   "execution_count": 4,
   "id": "9228eb6b",
   "metadata": {},
   "outputs": [],
   "source": [
    "train_task_id = [str(x) for x in list(range(1000))]\n",
    "val_task_id = [str(x) for x in list(range(1000, 2000))]\n",
    "test_task_id = [str(x) for x in list(range(2000, 3000))]"
   ]
  },
  {
   "cell_type": "code",
   "execution_count": 5,
   "id": "fb6ea4b0",
   "metadata": {},
   "outputs": [],
   "source": [
    "if not os.path.exists(os.path.join(ZAPPOS_ROOT, json_name)):\n",
    "    os.mkdir(os.path.join(ZAPPOS_ROOT, json_name))\n",
    "with open(os.path.join(ZAPPOS_ROOT, json_name, 'base.json'), 'w') as file:\n",
    "    json.dump({key: value for key, value in json_object.items() if key in train_task_id},\n",
    "              file)\n",
    "\n",
    "with open(os.path.join(ZAPPOS_ROOT, json_name, 'val.json'), 'w') as file:\n",
    "    json.dump({key: value for key, value in json_object.items() if key in val_task_id},\n",
    "              file)\n",
    "    \n",
    "with open(os.path.join(ZAPPOS_ROOT, json_name, 'novel.json'), 'w') as file:\n",
    "    json.dump({key: value for key, value in json_object.items() if key in test_task_id},\n",
    "              file)"
   ]
  },
  {
   "cell_type": "code",
   "execution_count": null,
   "id": "fa55164e",
   "metadata": {},
   "outputs": [],
   "source": []
  }
 ],
 "metadata": {
  "kernelspec": {
   "display_name": "Python 3",
   "language": "python",
   "name": "python3"
  },
  "language_info": {
   "codemirror_mode": {
    "name": "ipython",
    "version": 3
   },
   "file_extension": ".py",
   "mimetype": "text/x-python",
   "name": "python",
   "nbconvert_exporter": "python",
   "pygments_lexer": "ipython3",
   "version": "3.7.6"
  }
 },
 "nbformat": 4,
 "nbformat_minor": 5
}

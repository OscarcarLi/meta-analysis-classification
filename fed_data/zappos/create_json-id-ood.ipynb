{
 "cells": [
  {
   "cell_type": "code",
   "execution_count": 29,
   "metadata": {},
   "outputs": [],
   "source": [
    "import os\n",
    "import json"
   ]
  },
  {
   "cell_type": "code",
   "execution_count": 30,
   "metadata": {},
   "outputs": [],
   "source": [
    "ID_json_name = 'zappos-ID-alltrue_vs_anyfalse-nsamp36000-ns5-nq10'\n",
    "OOD_json_name = 'zappos-OOD-alltrue_vs_anyfalse-nsamp30000-ns5-nq10'\n",
    "ZAPPOS_ROOT = '/home/amrith/meta-analysis-classification/fed_data/zappos'\n",
    "json_folder = 'zappos-alltrue_vs_anyfalse-ns5-nq10'"
   ]
  },
  {
   "cell_type": "code",
   "execution_count": 34,
   "metadata": {},
   "outputs": [],
   "source": [
    "if not os.path.exists(json_folder):\n",
    "    os.mkdir(json_folder)"
   ]
  },
  {
   "cell_type": "code",
   "execution_count": 43,
   "metadata": {},
   "outputs": [
    {
     "name": "stdout",
     "output_type": "stream",
     "text": [
      "total 109M\r\n",
      "-rw-r--r-- 1 amrith amrith 3.0M May 21 05:32 base-ID-1000.json\r\n",
      "-rw-r--r-- 1 amrith amrith  15M May 21 05:32 val-ID-5000.json\r\n",
      "-rw-r--r-- 1 amrith amrith  15M May 21 05:32 novel-ID-5000.json\r\n",
      "-rw-r--r-- 1 amrith amrith  74M May 21 05:36 novel-ID-25000.json\r\n",
      "-rw-r--r-- 1 amrith amrith 3.0M May 21 05:37 val-ID-1000.json\r\n",
      "-rw-r--r-- 1 amrith amrith 299K May 21 05:37 novel-ID-100.json\r\n"
     ]
    }
   ],
   "source": [
    "!ls -lrth zappos-alltrue_vs_anyfalse-ns5-nq10"
   ]
  },
  {
   "cell_type": "code",
   "execution_count": 3,
   "metadata": {},
   "outputs": [],
   "source": [
    "# ID BASE VAL NOVEL "
   ]
  },
  {
   "cell_type": "code",
   "execution_count": 31,
   "metadata": {},
   "outputs": [],
   "source": [
    "json_object = json.load(open(ID_json_name + '.json', 'r'))"
   ]
  },
  {
   "cell_type": "code",
   "execution_count": 41,
   "metadata": {},
   "outputs": [],
   "source": [
    "train_task_id = [str(x) for x in list(range(1000))]\n",
    "val_task_id = [str(x) for x in list(range(1000, 6000))]\n",
    "test_task_id = [str(x) for x in list(range(6000, 11000))]"
   ]
  },
  {
   "cell_type": "code",
   "execution_count": 42,
   "metadata": {},
   "outputs": [],
   "source": [
    "with open(os.path.join(json_folder, f'base-ID-{len(train_task_id)}.json'), 'w') as file:\n",
    "    json.dump({key: value for key, value in json_object.items() if key in train_task_id},\n",
    "              file)\n",
    "\n",
    "with open(os.path.join(json_folder, f'val-ID-{len(val_task_id)}.json'), 'w') as file:\n",
    "    json.dump({key: value for key, value in json_object.items() if key in val_task_id},\n",
    "              file)\n",
    "    \n",
    "with open(os.path.join(json_folder, f'novel-ID-{len(test_task_id)}.json'), 'w') as file:\n",
    "    json.dump({key: value for key, value in json_object.items() if key in test_task_id},\n",
    "              file)"
   ]
  },
  {
   "cell_type": "code",
   "execution_count": 7,
   "metadata": {},
   "outputs": [],
   "source": [
    "del json_object\n",
    "del train_task_id\n",
    "del val_task_id\n",
    "del test_task_id"
   ]
  },
  {
   "cell_type": "code",
   "execution_count": null,
   "metadata": {},
   "outputs": [],
   "source": []
  },
  {
   "cell_type": "code",
   "execution_count": 8,
   "metadata": {},
   "outputs": [],
   "source": [
    "# OOD BASE VAL NOVEL "
   ]
  },
  {
   "cell_type": "code",
   "execution_count": 9,
   "metadata": {},
   "outputs": [],
   "source": [
    "json_object = json.load(open(OOD_json_name + '.json', 'r'))"
   ]
  },
  {
   "cell_type": "code",
   "execution_count": 10,
   "metadata": {},
   "outputs": [],
   "source": [
    "val_task_id = [str(x) for x in list(range(5000))]\n",
    "test_task_id = [str(x) for x in list(range(5000, 30000))]"
   ]
  },
  {
   "cell_type": "code",
   "execution_count": 11,
   "metadata": {},
   "outputs": [],
   "source": [
    "with open(os.path.join(json_folder, f'val-OOD-{len(val_task_id)}.json'), 'w') as file:\n",
    "    json.dump({key: value for key, value in json_object.items() if key in val_task_id},\n",
    "              file)\n",
    "    \n",
    "with open(os.path.join(json_folder, f'novel-OOD-{len(test_task_id)}.json'), 'w') as file:\n",
    "    json.dump({key: value for key, value in json_object.items() if key in test_task_id},\n",
    "              file)"
   ]
  },
  {
   "cell_type": "code",
   "execution_count": null,
   "metadata": {},
   "outputs": [],
   "source": []
  }
 ],
 "metadata": {
  "kernelspec": {
   "display_name": "Python 3",
   "language": "python",
   "name": "python3"
  },
  "language_info": {
   "codemirror_mode": {
    "name": "ipython",
    "version": 3
   },
   "file_extension": ".py",
   "mimetype": "text/x-python",
   "name": "python",
   "nbconvert_exporter": "python",
   "pygments_lexer": "ipython3",
   "version": "3.7.4"
  }
 },
 "nbformat": 4,
 "nbformat_minor": 5
}

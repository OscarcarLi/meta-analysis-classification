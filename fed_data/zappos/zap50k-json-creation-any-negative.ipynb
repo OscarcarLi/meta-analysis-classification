{
 "cells": [
  {
   "cell_type": "code",
   "execution_count": 1,
   "metadata": {},
   "outputs": [],
   "source": [
    "import pandas as pd\n",
    "import numpy as np\n",
    "from collections import defaultdict\n",
    "import tqdm\n",
    "import random\n",
    "import glob\n",
    "import json"
   ]
  },
  {
   "cell_type": "code",
   "execution_count": 2,
   "metadata": {},
   "outputs": [],
   "source": [
    "RANDOM_SEED=100\n",
    "random.seed(RANDOM_SEED)\n",
    "np.random.seed(RANDOM_SEED)"
   ]
  },
  {
   "cell_type": "code",
   "execution_count": 3,
   "metadata": {},
   "outputs": [],
   "source": [
    "# ZAPPOS_ROOT = '/home/amrith/zappos-50k/'\n",
    "# ZAPPOS_IMAGES_ROOT = '/home/amrith/zappos-50k/ut-zap50k-images-square'\n",
    "ZAPPOS_ROOT = '/home/oscarli/projects/meta-analysis-classification/fed_data/zappos/'\n",
    "ZAPPOS_IMAGES_ROOT = '/home/oscarli/projects/meta-analysis-classification/fed_data/zappos/ut-zap50k-images-square'"
   ]
  },
  {
   "cell_type": "code",
   "execution_count": 4,
   "metadata": {},
   "outputs": [],
   "source": [
    "df = pd.read_csv(f'{ZAPPOS_ROOT}/ut-zap50k-data/meta-data-bin.csv')\n",
    "df['HeelHeight.High.heel'] = df['HeelHeight.4in...4.3.4in'] + df['HeelHeight.5in...over']\n",
    "df['HeelHeight.Short.heel'] = df['HeelHeight.Flat'] + df['HeelHeight.Under.1in'] + df['HeelHeight.1in...1.3.4in']"
   ]
  },
  {
   "cell_type": "code",
   "execution_count": 5,
   "metadata": {},
   "outputs": [
    {
     "data": {
      "text/plain": [
       "(50025, 154)"
      ]
     },
     "execution_count": 5,
     "metadata": {},
     "output_type": "execute_result"
    }
   ],
   "source": [
    "df.shape"
   ]
  },
  {
   "cell_type": "code",
   "execution_count": 6,
   "metadata": {},
   "outputs": [
    {
     "name": "stdout",
     "output_type": "stream",
     "text": [
      "['CID', 'Category.Boots', 'Category.Sandals', 'Category.Shoes', 'Category.Slippers', 'Closure.Adjustable', 'Closure.Ankle.Strap', 'Closure.Ankle.Wrap', 'Closure.Belt', 'Closure.Buckle', 'Closure.Bungee', 'Closure.Button.Loop', 'Closure.Elastic.Gore', 'Closure.Hook.and.Loop', 'Closure.Lace.up', 'Closure.Monk.Strap', 'Closure.Pull.on', 'Closure.Sling.Back', 'Closure.Slip.On', 'Closure.Snap', 'Closure.Spat.Strap', 'Closure.T.Strap', 'Closure.Toggle', 'Closure.Zipper', 'Gender.Boys', 'Gender.Girls', 'Gender.Men', 'Gender.Women', 'HeelHeight.1in...1.3.4in', 'HeelHeight.2in...2.3.4in', 'HeelHeight.3in...3.3.4in', 'HeelHeight.4in...4.3.4in', 'HeelHeight.5in...over', 'HeelHeight.Flat', 'HeelHeight.High.heel', 'HeelHeight.Short.heel', 'HeelHeight.Under.1in', 'Insole.EVA', 'Insole.Gel', 'Insole.Hypoallergenic', 'Insole.Latex.Lined', 'Insole.Leather', 'Insole.Memory.Foam', 'Insole.Moisture.Wicking', 'Insole.Orthotic.Friendly', 'Insole.Padded', 'Insole.Polyurethane', 'Insole.Poron', 'Insole.Removable', 'Insole.Synthetic.Leather', 'Insole.Textile', 'Material.Acrylic', 'Material.Aluminum', 'Material.Cable.Knit', 'Material.Canvas', 'Material.Cashmere', 'Material.Chiffon', 'Material.Cordura', 'Material.Corduroy', 'Material.Cork', 'Material.Cotton', 'Material.Crochet', 'Material.Crocodile', 'Material.Deerskin', 'Material.Denim', 'Material.Distressed.Leather', 'Material.EVA', 'Material.Exotic', 'Material.Faux.Fur', 'Material.Faux.Leather', 'Material.Faux.Suede', 'Material.Felt', 'Material.Fleece', 'Material.Full.grain.leather', 'Material.Hair.Calf', 'Material.Hemp', 'Material.Horse.Hair', 'Material.Jacquard', 'Material.Jute', 'Material.Lace', 'Material.Lambskin', 'Material.Latex', 'Material.Leather', 'Material.Linen', 'Material.Lizard', 'Material.Mesh', 'Material.Microfiber', 'Material.Nappa', 'Material.Neoprene', 'Material.Nubuck', 'Material.Nylon', 'Material.Ostrich', 'Material.Patent.Leather', 'Material.Plastic', 'Material.Polyester', 'Material.Polyurethane', 'Material.Raffia', 'Material.Ripstop', 'Material.Rubber', 'Material.Satin', 'Material.Shearling', 'Material.Sheepskin', 'Material.Silk', 'Material.Snakeskin', 'Material.Steel', 'Material.Stingray', 'Material.Suede', 'Material.Synthetic', 'Material.Terry', 'Material.Tweed', 'Material.Velour', 'Material.Velvet', 'Material.Vinyl', 'Material.Wool', 'SubCategory.Ankle', 'SubCategory.Athletic', 'SubCategory.Boat.Shoes', 'SubCategory.Boot', 'SubCategory.Clogs.and.Mules', 'SubCategory.Crib.Shoes', 'SubCategory.Firstwalker', 'SubCategory.Flat', 'SubCategory.Flats', 'SubCategory.Heel', 'SubCategory.Heels', 'SubCategory.Knee.High', 'SubCategory.Loafers', 'SubCategory.Mid.Calf', 'SubCategory.Over.the.Knee', 'SubCategory.Oxfords', 'SubCategory.Prewalker', 'SubCategory.Prewalker.Boots', 'SubCategory.Slipper.Flats', 'SubCategory.Slipper.Heels', 'SubCategory.Sneakers.and.Athletic.Shoes', 'ToeStyle.Algonquin', 'ToeStyle.Almond', 'ToeStyle.Apron Toe', 'ToeStyle.Bicycle Toe', 'ToeStyle.Bump Toe', 'ToeStyle.Capped Toe', 'ToeStyle.Center Seam', 'ToeStyle.Closed Toe', 'ToeStyle.Medallion', 'ToeStyle.Moc Toe', 'ToeStyle.Open Toe', 'ToeStyle.Peep Toe', 'ToeStyle.Pointed Toe', 'ToeStyle.Round Toe', 'ToeStyle.Snip Toe', 'ToeStyle.Snub Toe', 'ToeStyle.Square Toe', 'ToeStyle.Wide Toe Box', 'ToeStyle.Wingtip']\n"
     ]
    }
   ],
   "source": [
    "print(sorted(df.columns))"
   ]
  },
  {
   "cell_type": "code",
   "execution_count": 7,
   "metadata": {},
   "outputs": [
    {
     "name": "stdout",
     "output_type": "stream",
     "text": [
      "78\n"
     ]
    }
   ],
   "source": [
    "# Attribute list\n",
    "ATTR_LIST_1 = ['Category.Shoes', 'Category.Sandals', 'SubCategory.Oxfords', 'SubCategory.Heel', 'SubCategory.Boot', 'SubCategory.Slipper.Flats', 'SubCategory.Flats', 'SubCategory.Slipper.Heels', 'SubCategory.Athletic', 'SubCategory.Knee.High', 'SubCategory.Crib.Shoes', 'SubCategory.Over.the.Knee', 'HeelHeight.High.heel', 'HeelHeight.Short.heel', 'Closure.Pull.on', 'Closure.Ankle.Strap', 'Closure.Zipper', 'Closure.Elastic.Gore', 'Closure.Sling.Back', 'Closure.Toggle', 'Closure.Snap', 'Closure.T.Strap', 'Closure.Spat.Strap', 'Gender.Men', 'Gender.Boys', 'Material.Rubber', 'Material.Wool', 'Material.Silk', 'Material.Aluminum', 'Material.Plastic', 'ToeStyle.Capped Toe', 'ToeStyle.Square Toe', 'ToeStyle.Snub Toe', 'ToeStyle.Bicycle Toe', 'ToeStyle.Open Toe', 'ToeStyle.Pointed Toe', 'ToeStyle.Almond', 'ToeStyle.Apron Toe', 'ToeStyle.Snip Toe', 'ToeStyle.Medallion']\n",
    "ATTR_LIST_2 = ['Category.Boots', 'Category.Slippers', 'SubCategory.Mid.Calf', 'SubCategory.Ankle', 'SubCategory.Loafers', 'SubCategory.Boat.Shoes', 'SubCategory.Clogs.and.Mules', 'SubCategory.Sneakers.and.Athletic.Shoes', 'SubCategory.Heels', 'SubCategory.Prewalker', 'SubCategory.Prewalker.Boots', 'SubCategory.Firstwalker', 'Closure.Lace.up', 'Closure.Buckle', 'Closure.Hook.and.Loop', 'Closure.Slip.On', 'Closure.Ankle.Wrap', 'Closure.Bungee', 'Closure.Adjustable',  'Closure.Button.Loop', 'Closure.Monk.Strap', 'Closure.Belt', 'Gender.Women', 'Gender.Girls', 'Material.Suede', 'Material.Snakeskin', 'Material.Corduroy', 'Material.Horse.Hair', 'Material.Stingray', 'ToeStyle.Round Toe', 'ToeStyle.Closed Toe', 'ToeStyle.Moc Toe', 'ToeStyle.Wingtip', 'ToeStyle.Center Seam', 'ToeStyle.Algonquin', 'ToeStyle.Bump Toe', 'ToeStyle.Wide Toe Box', 'ToeStyle.Peep Toe']\n",
    "FULL_ATTR_LIST = sorted(list(set(ATTR_LIST_1 + ATTR_LIST_2)))\n",
    "for x in FULL_ATTR_LIST:\n",
    "    if x not in df.columns: \n",
    "        print(x)\n",
    "print(len(FULL_ATTR_LIST))"
   ]
  },
  {
   "cell_type": "code",
   "execution_count": 8,
   "metadata": {},
   "outputs": [
    {
     "name": "stdout",
     "output_type": "stream",
     "text": [
      "38\n"
     ]
    }
   ],
   "source": [
    "ATTR_LIST = []\n",
    "MIN_IMAGES_PER_ATTR = 1000\n",
    "for a, x in zip(FULL_ATTR_LIST, df.loc[:, FULL_ATTR_LIST].apply(sum, axis=0)):\n",
    "    if x > MIN_IMAGES_PER_ATTR:\n",
    "        ATTR_LIST.append(a)\n",
    "print(len(ATTR_LIST))"
   ]
  },
  {
   "cell_type": "code",
   "execution_count": 9,
   "metadata": {},
   "outputs": [
    {
     "data": {
      "text/plain": [
       "['Category.Boots',\n",
       " 'Category.Sandals',\n",
       " 'Category.Shoes',\n",
       " 'Category.Slippers',\n",
       " 'Closure.Ankle.Strap',\n",
       " 'Closure.Buckle',\n",
       " 'Closure.Elastic.Gore',\n",
       " 'Closure.Hook.and.Loop',\n",
       " 'Closure.Lace.up',\n",
       " 'Closure.Pull.on',\n",
       " 'Closure.Slip.On',\n",
       " 'Closure.Zipper',\n",
       " 'Gender.Boys',\n",
       " 'Gender.Girls',\n",
       " 'Gender.Men',\n",
       " 'Gender.Women',\n",
       " 'HeelHeight.High.heel',\n",
       " 'HeelHeight.Short.heel',\n",
       " 'Material.Rubber',\n",
       " 'Material.Suede',\n",
       " 'SubCategory.Ankle',\n",
       " 'SubCategory.Clogs.and.Mules',\n",
       " 'SubCategory.Flats',\n",
       " 'SubCategory.Heels',\n",
       " 'SubCategory.Knee.High',\n",
       " 'SubCategory.Loafers',\n",
       " 'SubCategory.Mid.Calf',\n",
       " 'SubCategory.Oxfords',\n",
       " 'SubCategory.Slipper.Flats',\n",
       " 'SubCategory.Sneakers.and.Athletic.Shoes',\n",
       " 'ToeStyle.Almond',\n",
       " 'ToeStyle.Capped Toe',\n",
       " 'ToeStyle.Closed Toe',\n",
       " 'ToeStyle.Moc Toe',\n",
       " 'ToeStyle.Open Toe',\n",
       " 'ToeStyle.Peep Toe',\n",
       " 'ToeStyle.Pointed Toe',\n",
       " 'ToeStyle.Round Toe']"
      ]
     },
     "execution_count": 9,
     "metadata": {},
     "output_type": "execute_result"
    }
   ],
   "source": [
    "ATTR_LIST"
   ]
  },
  {
   "cell_type": "markdown",
   "metadata": {},
   "source": [
    "1. logic to sample attribute list\n",
    "2. logic to check if attributes are from same category\n",
    "3. logic to sample images that are positive for the attribute pair"
   ]
  },
  {
   "cell_type": "code",
   "execution_count": 10,
   "metadata": {},
   "outputs": [],
   "source": [
    "def is_same_category(attr_pair):\n",
    "    return len(set([attr.lower().split(\".\")[0] for attr in attrs])) < len(attr_pair)\n",
    "    \n",
    "def sample_attrs(attributes_list, n_attrs=2):\n",
    "    return np.random.choice(attributes_list, n_attrs, replace=False)\n",
    "\n",
    "def get_all_positive_images(df, attrs):\n",
    "    return df[attrs].apply(sum, axis=1) == len(attrs)\n",
    "\n",
    "def get_all_negative_images(df, attrs):\n",
    "    return (1-df[attrs]).apply(sum, axis=1) == len(attrs)\n",
    "\n",
    "def sample_images(df, selected_images, n_samples):\n",
    "    return list(np.random.choice(df[selected_images][\"CID\"].values, n_samples, replace=False))"
   ]
  },
  {
   "cell_type": "code",
   "execution_count": 11,
   "metadata": {},
   "outputs": [],
   "source": [
    "N_SAMPLES = 8000\n",
    "POSITIVE_IMAGES_THRESHOLD = 20\n",
    "NEGATIVE_IMAGES_THRESHOLD = 20\n",
    "N_SUPPORT = 10\n",
    "N_QUERY = 10"
   ]
  },
  {
   "cell_type": "code",
   "execution_count": 12,
   "metadata": {},
   "outputs": [],
   "source": [
    "CID_to_impath = {x.split(\"/\")[-1][:-4].replace(\".\", \"-\"):x for x in glob.glob(f\"{ZAPPOS_IMAGES_ROOT}/**/*.jpg\", recursive=True)}"
   ]
  },
  {
   "cell_type": "code",
   "execution_count": 13,
   "metadata": {},
   "outputs": [
    {
     "name": "stdout",
     "output_type": "stream",
     "text": [
      "['Category.Boots' 'Material.Rubber']\n",
      "Selected 1/1 Time Elapsed 0.42717814445495605\n",
      "['Gender.Girls' 'ToeStyle.Moc Toe']\n",
      "Selected 2/2 Time Elapsed 0.849738597869873\n",
      "['ToeStyle.Round Toe' 'HeelHeight.High.heel']\n",
      "Selected 3/3 Time Elapsed 1.3089141845703125\n",
      "['ToeStyle.Open Toe' 'ToeStyle.Moc Toe']\n",
      "['HeelHeight.Short.heel' 'Gender.Men']\n",
      "Selected 4/5 Time Elapsed 1.7459113597869873\n",
      "['Gender.Girls' 'Category.Slippers']\n",
      "Selected 5/6 Time Elapsed 2.2003109455108643\n",
      "['Gender.Men' 'Closure.Ankle.Strap']\n",
      "['Category.Sandals' 'Gender.Women']\n",
      "Selected 6/8 Time Elapsed 2.976280927658081\n",
      "['ToeStyle.Closed Toe' 'Closure.Elastic.Gore']\n",
      "Selected 7/9 Time Elapsed 3.3901572227478027\n",
      "['Closure.Slip.On' 'SubCategory.Knee.High']\n",
      "['Closure.Pull.on' 'Category.Boots']\n"
     ]
    },
    {
     "ename": "KeyboardInterrupt",
     "evalue": "",
     "output_type": "error",
     "traceback": [
      "\u001b[0;31m---------------------------------------------------------------------------\u001b[0m",
      "\u001b[0;31mKeyboardInterrupt\u001b[0m                         Traceback (most recent call last)",
      "\u001b[0;32m<ipython-input-13-2192569d7bd6>\u001b[0m in \u001b[0;36m<module>\u001b[0;34m\u001b[0m\n\u001b[1;32m     15\u001b[0m         \u001b[0;32mcontinue\u001b[0m\u001b[0;34m\u001b[0m\u001b[0;34m\u001b[0m\u001b[0m\n\u001b[1;32m     16\u001b[0m     \u001b[0;31m# get images which satisfy the attributes\u001b[0m\u001b[0;34m\u001b[0m\u001b[0;34m\u001b[0m\u001b[0;34m\u001b[0m\u001b[0m\n\u001b[0;32m---> 17\u001b[0;31m     \u001b[0mpositive_images\u001b[0m \u001b[0;34m=\u001b[0m \u001b[0mget_all_positive_images\u001b[0m\u001b[0;34m(\u001b[0m\u001b[0mdf\u001b[0m\u001b[0;34m,\u001b[0m \u001b[0mattrs\u001b[0m\u001b[0;34m)\u001b[0m\u001b[0;34m\u001b[0m\u001b[0;34m\u001b[0m\u001b[0m\n\u001b[0m\u001b[1;32m     18\u001b[0m     \u001b[0mnegative_images\u001b[0m \u001b[0;34m=\u001b[0m \u001b[0mpositive_images\u001b[0m\u001b[0;34m.\u001b[0m\u001b[0mapply\u001b[0m\u001b[0;34m(\u001b[0m\u001b[0;32mlambda\u001b[0m \u001b[0mx\u001b[0m\u001b[0;34m:\u001b[0m \u001b[0;32mnot\u001b[0m \u001b[0mx\u001b[0m\u001b[0;34m)\u001b[0m\u001b[0;34m\u001b[0m\u001b[0;34m\u001b[0m\u001b[0m\n\u001b[1;32m     19\u001b[0m     \u001b[0;32massert\u001b[0m \u001b[0mall\u001b[0m\u001b[0;34m(\u001b[0m\u001b[0;34m[\u001b[0m\u001b[0;34m(\u001b[0m\u001b[0mx\u001b[0m \u001b[0;34m!=\u001b[0m \u001b[0my\u001b[0m\u001b[0;34m)\u001b[0m \u001b[0;32mfor\u001b[0m \u001b[0mx\u001b[0m\u001b[0;34m,\u001b[0m\u001b[0my\u001b[0m \u001b[0;32min\u001b[0m \u001b[0mzip\u001b[0m\u001b[0;34m(\u001b[0m\u001b[0mpositive_images\u001b[0m\u001b[0;34m,\u001b[0m \u001b[0mnegative_images\u001b[0m\u001b[0;34m)\u001b[0m\u001b[0;34m]\u001b[0m\u001b[0;34m)\u001b[0m\u001b[0;34m\u001b[0m\u001b[0;34m\u001b[0m\u001b[0m\n",
      "\u001b[0;32m<ipython-input-10-3aa4159274f3>\u001b[0m in \u001b[0;36mget_all_positive_images\u001b[0;34m(df, attrs)\u001b[0m\n\u001b[1;32m      6\u001b[0m \u001b[0;34m\u001b[0m\u001b[0m\n\u001b[1;32m      7\u001b[0m \u001b[0;32mdef\u001b[0m \u001b[0mget_all_positive_images\u001b[0m\u001b[0;34m(\u001b[0m\u001b[0mdf\u001b[0m\u001b[0;34m,\u001b[0m \u001b[0mattrs\u001b[0m\u001b[0;34m)\u001b[0m\u001b[0;34m:\u001b[0m\u001b[0;34m\u001b[0m\u001b[0;34m\u001b[0m\u001b[0m\n\u001b[0;32m----> 8\u001b[0;31m     \u001b[0;32mreturn\u001b[0m \u001b[0mdf\u001b[0m\u001b[0;34m[\u001b[0m\u001b[0mattrs\u001b[0m\u001b[0;34m]\u001b[0m\u001b[0;34m.\u001b[0m\u001b[0mapply\u001b[0m\u001b[0;34m(\u001b[0m\u001b[0msum\u001b[0m\u001b[0;34m,\u001b[0m \u001b[0maxis\u001b[0m\u001b[0;34m=\u001b[0m\u001b[0;36m1\u001b[0m\u001b[0;34m)\u001b[0m \u001b[0;34m==\u001b[0m \u001b[0mlen\u001b[0m\u001b[0;34m(\u001b[0m\u001b[0mattrs\u001b[0m\u001b[0;34m)\u001b[0m\u001b[0;34m\u001b[0m\u001b[0;34m\u001b[0m\u001b[0m\n\u001b[0m\u001b[1;32m      9\u001b[0m \u001b[0;34m\u001b[0m\u001b[0m\n\u001b[1;32m     10\u001b[0m \u001b[0;32mdef\u001b[0m \u001b[0mget_all_negative_images\u001b[0m\u001b[0;34m(\u001b[0m\u001b[0mdf\u001b[0m\u001b[0;34m,\u001b[0m \u001b[0mattrs\u001b[0m\u001b[0;34m)\u001b[0m\u001b[0;34m:\u001b[0m\u001b[0;34m\u001b[0m\u001b[0;34m\u001b[0m\u001b[0m\n",
      "\u001b[0;32m~/anaconda3/envs/py37/lib/python3.7/site-packages/pandas/core/frame.py\u001b[0m in \u001b[0;36mapply\u001b[0;34m(self, func, axis, raw, result_type, args, **kwds)\u001b[0m\n\u001b[1;32m   6876\u001b[0m             \u001b[0mkwds\u001b[0m\u001b[0;34m=\u001b[0m\u001b[0mkwds\u001b[0m\u001b[0;34m,\u001b[0m\u001b[0;34m\u001b[0m\u001b[0;34m\u001b[0m\u001b[0m\n\u001b[1;32m   6877\u001b[0m         )\n\u001b[0;32m-> 6878\u001b[0;31m         \u001b[0;32mreturn\u001b[0m \u001b[0mop\u001b[0m\u001b[0;34m.\u001b[0m\u001b[0mget_result\u001b[0m\u001b[0;34m(\u001b[0m\u001b[0;34m)\u001b[0m\u001b[0;34m\u001b[0m\u001b[0;34m\u001b[0m\u001b[0m\n\u001b[0m\u001b[1;32m   6879\u001b[0m \u001b[0;34m\u001b[0m\u001b[0m\n\u001b[1;32m   6880\u001b[0m     \u001b[0;32mdef\u001b[0m \u001b[0mapplymap\u001b[0m\u001b[0;34m(\u001b[0m\u001b[0mself\u001b[0m\u001b[0;34m,\u001b[0m \u001b[0mfunc\u001b[0m\u001b[0;34m)\u001b[0m \u001b[0;34m->\u001b[0m \u001b[0;34m\"DataFrame\"\u001b[0m\u001b[0;34m:\u001b[0m\u001b[0;34m\u001b[0m\u001b[0;34m\u001b[0m\u001b[0m\n",
      "\u001b[0;32m~/anaconda3/envs/py37/lib/python3.7/site-packages/pandas/core/apply.py\u001b[0m in \u001b[0;36mget_result\u001b[0;34m(self)\u001b[0m\n\u001b[1;32m    184\u001b[0m             \u001b[0;32mreturn\u001b[0m \u001b[0mself\u001b[0m\u001b[0;34m.\u001b[0m\u001b[0mapply_raw\u001b[0m\u001b[0;34m(\u001b[0m\u001b[0;34m)\u001b[0m\u001b[0;34m\u001b[0m\u001b[0;34m\u001b[0m\u001b[0m\n\u001b[1;32m    185\u001b[0m \u001b[0;34m\u001b[0m\u001b[0m\n\u001b[0;32m--> 186\u001b[0;31m         \u001b[0;32mreturn\u001b[0m \u001b[0mself\u001b[0m\u001b[0;34m.\u001b[0m\u001b[0mapply_standard\u001b[0m\u001b[0;34m(\u001b[0m\u001b[0;34m)\u001b[0m\u001b[0;34m\u001b[0m\u001b[0;34m\u001b[0m\u001b[0m\n\u001b[0m\u001b[1;32m    187\u001b[0m \u001b[0;34m\u001b[0m\u001b[0m\n\u001b[1;32m    188\u001b[0m     \u001b[0;32mdef\u001b[0m \u001b[0mapply_empty_result\u001b[0m\u001b[0;34m(\u001b[0m\u001b[0mself\u001b[0m\u001b[0;34m)\u001b[0m\u001b[0;34m:\u001b[0m\u001b[0;34m\u001b[0m\u001b[0;34m\u001b[0m\u001b[0m\n",
      "\u001b[0;32m~/anaconda3/envs/py37/lib/python3.7/site-packages/pandas/core/apply.py\u001b[0m in \u001b[0;36mapply_standard\u001b[0;34m(self)\u001b[0m\n\u001b[1;32m    294\u001b[0m             \u001b[0;32mtry\u001b[0m\u001b[0;34m:\u001b[0m\u001b[0;34m\u001b[0m\u001b[0;34m\u001b[0m\u001b[0m\n\u001b[1;32m    295\u001b[0m                 result = libreduction.compute_reduction(\n\u001b[0;32m--> 296\u001b[0;31m                     \u001b[0mvalues\u001b[0m\u001b[0;34m,\u001b[0m \u001b[0mself\u001b[0m\u001b[0;34m.\u001b[0m\u001b[0mf\u001b[0m\u001b[0;34m,\u001b[0m \u001b[0maxis\u001b[0m\u001b[0;34m=\u001b[0m\u001b[0mself\u001b[0m\u001b[0;34m.\u001b[0m\u001b[0maxis\u001b[0m\u001b[0;34m,\u001b[0m \u001b[0mdummy\u001b[0m\u001b[0;34m=\u001b[0m\u001b[0mdummy\u001b[0m\u001b[0;34m,\u001b[0m \u001b[0mlabels\u001b[0m\u001b[0;34m=\u001b[0m\u001b[0mlabels\u001b[0m\u001b[0;34m\u001b[0m\u001b[0;34m\u001b[0m\u001b[0m\n\u001b[0m\u001b[1;32m    297\u001b[0m                 )\n\u001b[1;32m    298\u001b[0m             \u001b[0;32mexcept\u001b[0m \u001b[0mValueError\u001b[0m \u001b[0;32mas\u001b[0m \u001b[0merr\u001b[0m\u001b[0;34m:\u001b[0m\u001b[0;34m\u001b[0m\u001b[0;34m\u001b[0m\u001b[0m\n",
      "\u001b[0;32mpandas/_libs/reduction.pyx\u001b[0m in \u001b[0;36mpandas._libs.reduction.compute_reduction\u001b[0;34m()\u001b[0m\n",
      "\u001b[0;32mpandas/_libs/reduction.pyx\u001b[0m in \u001b[0;36mpandas._libs.reduction.Reducer.get_result\u001b[0;34m()\u001b[0m\n",
      "\u001b[0;32m~/anaconda3/envs/py37/lib/python3.7/site-packages/pandas/core/base.py\u001b[0m in \u001b[0;36m__iter__\u001b[0;34m(self)\u001b[0m\n\u001b[1;32m   1046\u001b[0m         \"\"\"\n\u001b[1;32m   1047\u001b[0m         \u001b[0;31m# We are explicitly making element iterators.\u001b[0m\u001b[0;34m\u001b[0m\u001b[0;34m\u001b[0m\u001b[0;34m\u001b[0m\u001b[0m\n\u001b[0;32m-> 1048\u001b[0;31m         \u001b[0;32mif\u001b[0m \u001b[0mself\u001b[0m\u001b[0;34m.\u001b[0m\u001b[0mdtype\u001b[0m\u001b[0;34m.\u001b[0m\u001b[0mkind\u001b[0m \u001b[0;32min\u001b[0m \u001b[0;34m[\u001b[0m\u001b[0;34m\"m\"\u001b[0m\u001b[0;34m,\u001b[0m \u001b[0;34m\"M\"\u001b[0m\u001b[0;34m]\u001b[0m\u001b[0;34m:\u001b[0m\u001b[0;34m\u001b[0m\u001b[0;34m\u001b[0m\u001b[0m\n\u001b[0m\u001b[1;32m   1049\u001b[0m             \u001b[0;32mreturn\u001b[0m \u001b[0mmap\u001b[0m\u001b[0;34m(\u001b[0m\u001b[0mcom\u001b[0m\u001b[0;34m.\u001b[0m\u001b[0mmaybe_box_datetimelike\u001b[0m\u001b[0;34m,\u001b[0m \u001b[0mself\u001b[0m\u001b[0;34m.\u001b[0m\u001b[0m_values\u001b[0m\u001b[0;34m)\u001b[0m\u001b[0;34m\u001b[0m\u001b[0;34m\u001b[0m\u001b[0m\n\u001b[1;32m   1050\u001b[0m         \u001b[0;32melif\u001b[0m \u001b[0mis_extension_array_dtype\u001b[0m\u001b[0;34m(\u001b[0m\u001b[0mself\u001b[0m\u001b[0;34m.\u001b[0m\u001b[0m_values\u001b[0m\u001b[0;34m)\u001b[0m\u001b[0;34m:\u001b[0m\u001b[0;34m\u001b[0m\u001b[0;34m\u001b[0m\u001b[0m\n",
      "\u001b[0;31mKeyboardInterrupt\u001b[0m: "
     ]
    }
   ],
   "source": [
    "# main logic for sampling\n",
    "n_selected = 0\n",
    "dataset = defaultdict(lambda: defaultdict(lambda: defaultdict(list)))\n",
    "counter = 0\n",
    "import time\n",
    "st = time.time()\n",
    "while n_selected < N_SAMPLES:\n",
    "    counter += 1\n",
    "    # get attributes\n",
    "    attrs = sample_attrs(ATTR_LIST)\n",
    "    print(attrs)\n",
    "    # if any pair of the sampled attributes are from the same category then reject\n",
    "    if is_same_category(attrs):\n",
    "        # print(\"Dropped -- same category\", attrs)\n",
    "        continue\n",
    "    # get images which satisfy the attributes\n",
    "    positive_images = get_all_positive_images(df, attrs)\n",
    "    negative_images = positive_images.apply(lambda x: not x)\n",
    "    assert all([(x != y) for x,y in zip(positive_images, negative_images)])\n",
    "    # if we want to enforce 0s for all attributes then we need to change the logic above\n",
    "    # to include get_all_negative_images(df, attrs)\n",
    "    \n",
    "    # if the no of images that are positive for the chosen attributes is too less, then reject \n",
    "    if (sum(positive_images) < POSITIVE_IMAGES_THRESHOLD) or (sum(negative_images) < NEGATIVE_IMAGES_THRESHOLD) :\n",
    "        # print(\"Dropped -- didnt meet threshold\", attrs)\n",
    "        continue\n",
    "    \n",
    "    positive = [CID_to_impath[z] for z in sample_images(df, positive_images, N_SUPPORT+N_QUERY)]\n",
    "    negative = [CID_to_impath[z] for z in sample_images(df, negative_images, N_SUPPORT+N_QUERY)]\n",
    "    \n",
    "    dataset[n_selected][0]['support'] = negative[:N_SUPPORT]\n",
    "    dataset[n_selected][0]['query'] = negative[N_SUPPORT:]\n",
    "    \n",
    "    dataset[n_selected][1]['support'] = positive[:N_SUPPORT]\n",
    "    dataset[n_selected][1]['query'] = positive[N_SUPPORT:]\n",
    "    \n",
    "    dataset[n_selected][0]['attributes'] = \"!(\" + \";\".join([a for a in attrs]) + \")\"\n",
    "    dataset[n_selected][1]['attributes'] = \";\".join(attrs)\n",
    "    \n",
    "    \n",
    "    n_selected += 1\n",
    "    print(f'Selected {n_selected}/{counter} Time Elapsed {time.time()-st}')\n",
    "        "
   ]
  },
  {
   "cell_type": "code",
   "execution_count": 16,
   "metadata": {},
   "outputs": [
    {
     "name": "stdout",
     "output_type": "stream",
     "text": [
      "!(Category.Boots;Material.Rubber)\n",
      "Category.Boots;Material.Rubber\n"
     ]
    }
   ],
   "source": [
    "print(dataset[0][0]['attributes'])\n",
    "print(dataset[0][1]['attributes'])"
   ]
  },
  {
   "cell_type": "code",
   "execution_count": null,
   "metadata": {},
   "outputs": [],
   "source": [
    "len(dataset)"
   ]
  },
  {
   "cell_type": "code",
   "execution_count": null,
   "metadata": {},
   "outputs": [],
   "source": [
    "json.dump(dataset, open(f'zappos-minImg{MIN_IMAGES_PER_ATTR}-alltrue_vs_anyfalse-nsamp{N_SAMPLES}-ns{N_SUPPORT}-nq{N_QUERY}.json', 'w'))"
   ]
  },
  {
   "cell_type": "code",
   "execution_count": null,
   "metadata": {},
   "outputs": [],
   "source": []
  }
 ],
 "metadata": {
  "kernelspec": {
   "display_name": "Python 3.7.6 64-bit ('py37': conda)",
   "language": "python",
   "name": "python37664bitpy37condadb70aabb01fa463792e58b65dd1b6927"
  },
  "language_info": {
   "codemirror_mode": {
    "name": "ipython",
    "version": 3
   },
   "file_extension": ".py",
   "mimetype": "text/x-python",
   "name": "python",
   "nbconvert_exporter": "python",
   "pygments_lexer": "ipython3",
   "version": "3.7.6"
  }
 },
 "nbformat": 4,
 "nbformat_minor": 4
}

{
 "cells": [
  {
   "cell_type": "code",
   "execution_count": 1,
   "metadata": {},
   "outputs": [],
   "source": [
    "import json\n",
    "from collections import defaultdict"
   ]
  },
  {
   "cell_type": "code",
   "execution_count": 8,
   "metadata": {},
   "outputs": [],
   "source": [
    "INPUT_JSON = 'jsons_from_oscar/zappos-ID-alltrue_vs_anyfalse-nsamp36000-ns5-nq10.json'\n",
    "OUTPUT_JSON = 'zappos-ID-alltrue_vs_anyfalse-nsamp36000-ns5-nq10.json'"
   ]
  },
  {
   "cell_type": "code",
   "execution_count": 9,
   "metadata": {},
   "outputs": [],
   "source": [
    "input_json = json.load(open(INPUT_JSON, 'r'))"
   ]
  },
  {
   "cell_type": "code",
   "execution_count": 10,
   "metadata": {},
   "outputs": [],
   "source": [
    "repl = ('/home/oscarli/projects/meta-analysis-classification/fed_data/zappos', '/home/amrith/zappos-50k')"
   ]
  },
  {
   "cell_type": "code",
   "execution_count": 11,
   "metadata": {},
   "outputs": [],
   "source": [
    "output_json = defaultdict(lambda: defaultdict(lambda: defaultdict(list)))\n",
    "\n",
    "for task_id in input_json:\n",
    "    for cls in input_json[task_id]:\n",
    "        output_json[task_id][cls]['attributes'] = input_json[task_id][cls]['attributes']\n",
    "        for imagepath in input_json[task_id][cls]['support']:\n",
    "            output_json[task_id][cls]['support'].append(imagepath.replace(repl[0], repl[1]))\n",
    "        for imagepath in input_json[task_id][cls]['query']:\n",
    "            output_json[task_id][cls]['query'].append(imagepath.replace(repl[0], repl[1]))\n"
   ]
  },
  {
   "cell_type": "code",
   "execution_count": 12,
   "metadata": {},
   "outputs": [
    {
     "data": {
      "text/plain": [
       "36000"
      ]
     },
     "execution_count": 12,
     "metadata": {},
     "output_type": "execute_result"
    }
   ],
   "source": [
    "len(output_json)"
   ]
  },
  {
   "cell_type": "code",
   "execution_count": 13,
   "metadata": {},
   "outputs": [],
   "source": [
    "json.dump(output_json, open(OUTPUT_JSON, 'w'))"
   ]
  }
 ],
 "metadata": {
  "kernelspec": {
   "display_name": "Python [conda env:root] *",
   "language": "python",
   "name": "conda-root-py"
  },
  "language_info": {
   "codemirror_mode": {
    "name": "ipython",
    "version": 3
   },
   "file_extension": ".py",
   "mimetype": "text/x-python",
   "name": "python",
   "nbconvert_exporter": "python",
   "pygments_lexer": "ipython3",
   "version": "3.7.4"
  }
 },
 "nbformat": 4,
 "nbformat_minor": 4
}

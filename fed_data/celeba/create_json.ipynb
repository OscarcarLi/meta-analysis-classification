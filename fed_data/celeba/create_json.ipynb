{
 "cells": [
  {
   "cell_type": "code",
   "execution_count": 5,
   "metadata": {},
   "outputs": [],
   "source": [
    "import os\n",
    "from collections import defaultdict\n",
    "import random\n",
    "import json"
   ]
  },
  {
   "cell_type": "code",
   "execution_count": 6,
   "metadata": {},
   "outputs": [],
   "source": [
    "# change this to the path of the folder containing three files:\n",
    "# identity_CelebA.txt  img_align_celeba  list_attr_celeba.txt\n",
    "# img_align_celeba is the unzipped folder from img_align_celeba.zip (containing jpeg files)\n",
    "celeba_root = '/home/oscarli/projects/leaf/data/celeba/data/raw/'"
   ]
  },
  {
   "cell_type": "code",
   "execution_count": 7,
   "metadata": {},
   "outputs": [],
   "source": [
    "with open(os.path.join(celeba_root, 'list_attr_celeba.txt'), 'r') as file:\n",
    "    file_iter = iter(file)\n",
    "    _ = next(file_iter) # throw away the number of images 202599\n",
    "    attribute_names = next(file_iter)\n",
    "    # get the attribute name and construct a mapping from the attribute name to a unique location index\n",
    "    attribute_to_index = {attribute: i for i, attribute in enumerate(attribute_names.split())}\n",
    "    \n",
    "    image_to_attribute = {}\n",
    "    # every remaining line is the name and attribute values for a specific image\n",
    "    for line in file_iter:\n",
    "        sample = line.split()\n",
    "        if len(sample) != 41:\n",
    "            raise(RuntimeError(\"# Annotated face attributes of CelebA dataset should not be different from 40\"))\n",
    "        image_name = sample[0]\n",
    "        image_to_attribute[image_name] = [int(i) for i in sample[1:]]"
   ]
  },
  {
   "cell_type": "code",
   "execution_count": 8,
   "metadata": {},
   "outputs": [
    {
     "name": "stdout",
     "output_type": "stream",
     "text": [
      "the total number of images is 202599\n"
     ]
    }
   ],
   "source": [
    "print(f'the total number of images is {len(image_to_attribute.keys())}')"
   ]
  },
  {
   "cell_type": "code",
   "execution_count": 9,
   "metadata": {},
   "outputs": [],
   "source": [
    "# define a labelling function based on the attributes of interest\n",
    "labelling_function = lambda x: int((x[attribute_to_index['Smiling']] + 1) / 2)"
   ]
  },
  {
   "cell_type": "code",
   "execution_count": 10,
   "metadata": {},
   "outputs": [
    {
     "name": "stdout",
     "output_type": "stream",
     "text": [
      "the label for image '000019.jpg' is 0\n"
     ]
    }
   ],
   "source": [
    "print(f\"the label for image '000019.jpg' is {labelling_function(image_to_attribute['000019.jpg'])}\")"
   ]
  },
  {
   "cell_type": "code",
   "execution_count": 13,
   "metadata": {},
   "outputs": [],
   "source": [
    "client_to_class_to_imagepathlist = defaultdict(lambda: defaultdict(list))"
   ]
  },
  {
   "cell_type": "code",
   "execution_count": 14,
   "metadata": {},
   "outputs": [],
   "source": [
    "with open(os.path.join(celeba_root, 'identity_CelebA.txt'), 'r') as file:\n",
    "    for line in file:\n",
    "        # every is an image and the corresponding celebrity's id\n",
    "        image_name, celeb_id = line.split()\n",
    "        label = labelling_function(image_to_attribute[image_name])\n",
    "        full_image_path = os.path.join(celeba_root, 'img_align_celeba', image_name)\n",
    "        client_to_class_to_imagepathlist[celeb_id][label].append(full_image_path)"
   ]
  },
  {
   "cell_type": "code",
   "execution_count": 15,
   "metadata": {},
   "outputs": [
    {
     "data": {
      "text/plain": [
       "defaultdict(list,\n",
       "            {1: ['/home/oscarli/projects/leaf/data/celeba/data/raw/img_align_celeba/000001.jpg',\n",
       "              '/home/oscarli/projects/leaf/data/celeba/data/raw/img_align_celeba/000404.jpg',\n",
       "              '/home/oscarli/projects/leaf/data/celeba/data/raw/img_align_celeba/003415.jpg',\n",
       "              '/home/oscarli/projects/leaf/data/celeba/data/raw/img_align_celeba/018062.jpg',\n",
       "              '/home/oscarli/projects/leaf/data/celeba/data/raw/img_align_celeba/025244.jpg',\n",
       "              '/home/oscarli/projects/leaf/data/celeba/data/raw/img_align_celeba/047978.jpg',\n",
       "              '/home/oscarli/projects/leaf/data/celeba/data/raw/img_align_celeba/049142.jpg',\n",
       "              '/home/oscarli/projects/leaf/data/celeba/data/raw/img_align_celeba/052623.jpg',\n",
       "              '/home/oscarli/projects/leaf/data/celeba/data/raw/img_align_celeba/053184.jpg',\n",
       "              '/home/oscarli/projects/leaf/data/celeba/data/raw/img_align_celeba/053311.jpg',\n",
       "              '/home/oscarli/projects/leaf/data/celeba/data/raw/img_align_celeba/055834.jpg',\n",
       "              '/home/oscarli/projects/leaf/data/celeba/data/raw/img_align_celeba/058188.jpg',\n",
       "              '/home/oscarli/projects/leaf/data/celeba/data/raw/img_align_celeba/061431.jpg',\n",
       "              '/home/oscarli/projects/leaf/data/celeba/data/raw/img_align_celeba/068154.jpg',\n",
       "              '/home/oscarli/projects/leaf/data/celeba/data/raw/img_align_celeba/084705.jpg',\n",
       "              '/home/oscarli/projects/leaf/data/celeba/data/raw/img_align_celeba/090937.jpg',\n",
       "              '/home/oscarli/projects/leaf/data/celeba/data/raw/img_align_celeba/096324.jpg',\n",
       "              '/home/oscarli/projects/leaf/data/celeba/data/raw/img_align_celeba/100990.jpg',\n",
       "              '/home/oscarli/projects/leaf/data/celeba/data/raw/img_align_celeba/103728.jpg',\n",
       "              '/home/oscarli/projects/leaf/data/celeba/data/raw/img_align_celeba/108341.jpg',\n",
       "              '/home/oscarli/projects/leaf/data/celeba/data/raw/img_align_celeba/122439.jpg',\n",
       "              '/home/oscarli/projects/leaf/data/celeba/data/raw/img_align_celeba/131731.jpg',\n",
       "              '/home/oscarli/projects/leaf/data/celeba/data/raw/img_align_celeba/134007.jpg',\n",
       "              '/home/oscarli/projects/leaf/data/celeba/data/raw/img_align_celeba/139106.jpg',\n",
       "              '/home/oscarli/projects/leaf/data/celeba/data/raw/img_align_celeba/140935.jpg'],\n",
       "             0: ['/home/oscarli/projects/leaf/data/celeba/data/raw/img_align_celeba/004390.jpg',\n",
       "              '/home/oscarli/projects/leaf/data/celeba/data/raw/img_align_celeba/027771.jpg',\n",
       "              '/home/oscarli/projects/leaf/data/celeba/data/raw/img_align_celeba/039393.jpg',\n",
       "              '/home/oscarli/projects/leaf/data/celeba/data/raw/img_align_celeba/052385.jpg',\n",
       "              '/home/oscarli/projects/leaf/data/celeba/data/raw/img_align_celeba/110376.jpg']})"
      ]
     },
     "execution_count": 15,
     "metadata": {},
     "output_type": "execute_result"
    }
   ],
   "source": [
    "client_to_class_to_imagepathlist['2880']"
   ]
  },
  {
   "cell_type": "code",
   "execution_count": 46,
   "metadata": {},
   "outputs": [],
   "source": [
    "min_num_examples_per_class = 3\n",
    "total_client_list = []\n",
    "all_cl_list = [0, 1] # this depends on the labelling function and should be changed accordingly\n",
    "for client_id in client_to_class_to_imagepathlist.keys():\n",
    "    have_enough_examples = True\n",
    "    for cl in all_cl_list: # the client needs to have at least min_num_examples_per_class for every single class\n",
    "        # the client cannot have missing class\n",
    "        if len(client_to_class_to_imagepathlist[client_id][cl]) < min_num_examples_per_class:\n",
    "            have_enough_examples = False\n",
    "            break\n",
    "    if have_enough_examples:\n",
    "        total_client_list.append(client_id)"
   ]
  },
  {
   "cell_type": "code",
   "execution_count": 47,
   "metadata": {},
   "outputs": [
    {
     "name": "stdout",
     "output_type": "stream",
     "text": [
      "the total number of clients with at least 3 for each class is 7142\n"
     ]
    }
   ],
   "source": [
    "print(f'the total number of clients with at least {min_num_examples_per_class} for each class is {len(total_client_list)}')"
   ]
  },
  {
   "cell_type": "code",
   "execution_count": 48,
   "metadata": {},
   "outputs": [],
   "source": [
    "total_client_list = sorted(total_client_list)"
   ]
  },
  {
   "cell_type": "code",
   "execution_count": 49,
   "metadata": {},
   "outputs": [],
   "source": [
    "random.seed(a=42)\n",
    "random.shuffle(total_client_list)"
   ]
  },
  {
   "cell_type": "code",
   "execution_count": 50,
   "metadata": {},
   "outputs": [
    {
     "data": {
      "text/plain": [
       "['2584', '6858', '2219', '8424', '8644']"
      ]
     },
     "execution_count": 50,
     "metadata": {},
     "output_type": "execute_result"
    }
   ],
   "source": [
    "total_client_list[:5]"
   ]
  },
  {
   "cell_type": "code",
   "execution_count": 51,
   "metadata": {},
   "outputs": [],
   "source": [
    "num_train = int(len(total_client_list) * 0.6)"
   ]
  },
  {
   "cell_type": "code",
   "execution_count": 52,
   "metadata": {},
   "outputs": [],
   "source": [
    "num_val = int(len(total_client_list) * 0.2)"
   ]
  },
  {
   "cell_type": "code",
   "execution_count": 53,
   "metadata": {},
   "outputs": [],
   "source": [
    "base_client_list = total_client_list[:num_train]\n",
    "val_client_list = total_client_list[num_train:num_train + num_val]\n",
    "novel_client_list = total_client_list[num_train + num_val:]"
   ]
  },
  {
   "cell_type": "code",
   "execution_count": 54,
   "metadata": {},
   "outputs": [],
   "source": [
    "json_name_to_client_list = {\n",
    "    'base.json': base_client_list,\n",
    "    'val.json': val_client_list,\n",
    "    'novel.json': novel_client_list,\n",
    "}"
   ]
  },
  {
   "cell_type": "code",
   "execution_count": 59,
   "metadata": {},
   "outputs": [
    {
     "name": "stdout",
     "output_type": "stream",
     "text": [
      "meta-train client number 4285\n",
      "meta-val client number 1428\n",
      "meta-test client number 1429\n"
     ]
    }
   ],
   "source": [
    "print(f'meta-train client number {len(base_client_list)}')\n",
    "print(f'meta-val client number {len(val_client_list)}')\n",
    "print(f'meta-test client number {len(novel_client_list)}')"
   ]
  },
  {
   "cell_type": "code",
   "execution_count": 60,
   "metadata": {},
   "outputs": [],
   "source": [
    "for json_name, client_list in json_name_to_client_list.items():\n",
    "    with open(json_name, 'w') as f:\n",
    "        json.dump(obj={client_id: client_to_class_to_imagepathlist[client_id] for client_id in client_list},\n",
    "                  fp=f)\n"
   ]
  },
  {
   "cell_type": "code",
   "execution_count": 62,
   "metadata": {},
   "outputs": [],
   "source": [
    "from PIL import Image"
   ]
  },
  {
   "cell_type": "code",
   "execution_count": 63,
   "metadata": {},
   "outputs": [],
   "source": [
    "def load_image(image_path):\n",
    "    img = Image.open(image_path).convert('RGB')\n",
    "    return img"
   ]
  },
  {
   "cell_type": "code",
   "execution_count": 66,
   "metadata": {},
   "outputs": [
    {
     "data": {
      "text/plain": [
       "['/home/oscarli/projects/leaf/data/celeba/data/raw/img_align_celeba/016188.jpg',\n",
       " '/home/oscarli/projects/leaf/data/celeba/data/raw/img_align_celeba/051523.jpg',\n",
       " '/home/oscarli/projects/leaf/data/celeba/data/raw/img_align_celeba/111618.jpg',\n",
       " '/home/oscarli/projects/leaf/data/celeba/data/raw/img_align_celeba/112468.jpg']"
      ]
     },
     "execution_count": 66,
     "metadata": {},
     "output_type": "execute_result"
    }
   ],
   "source": [
    "client_to_class_to_imagepathlist['2'][0]"
   ]
  },
  {
   "cell_type": "code",
   "execution_count": 81,
   "metadata": {},
   "outputs": [
    {
     "data": {
      "text/plain": [
       "(178, 218)"
      ]
     },
     "execution_count": 81,
     "metadata": {},
     "output_type": "execute_result"
    }
   ],
   "source": [
    "load_image(client_to_class_to_imagepathlist['1'][0][5]).size"
   ]
  },
  {
   "cell_type": "code",
   "execution_count": null,
   "metadata": {},
   "outputs": [],
   "source": []
  }
 ],
 "metadata": {
  "kernelspec": {
   "display_name": "Python 3.7.6 64-bit ('py37': conda)",
   "language": "python",
   "name": "python37664bitpy37condadb70aabb01fa463792e58b65dd1b6927"
  },
  "language_info": {
   "codemirror_mode": {
    "name": "ipython",
    "version": 3
   },
   "file_extension": ".py",
   "mimetype": "text/x-python",
   "name": "python",
   "nbconvert_exporter": "python",
   "pygments_lexer": "ipython3",
   "version": "3.7.6"
  }
 },
 "nbformat": 4,
 "nbformat_minor": 4
}
